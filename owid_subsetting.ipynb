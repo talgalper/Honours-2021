{
  "nbformat": 4,
  "nbformat_minor": 0,
  "metadata": {
    "colab": {
      "name": "owid_subsetting.ipynb",
      "provenance": [],
      "authorship_tag": "ABX9TyO7PNMp5h5Sx1Uq04RAYvUN",
      "include_colab_link": true
    },
    "kernelspec": {
      "name": "python3",
      "display_name": "Python 3"
    },
    "language_info": {
      "name": "python"
    }
  },
  "cells": [
    {
      "cell_type": "markdown",
      "metadata": {
        "id": "view-in-github",
        "colab_type": "text"
      },
      "source": [
        "<a href=\"https://colab.research.google.com/github/talgalper/Honours-2021/blob/main/owid_subsetting.ipynb\" target=\"_parent\"><img src=\"https://colab.research.google.com/assets/colab-badge.svg\" alt=\"Open In Colab\"/></a>"
      ]
    },
    {
      "cell_type": "code",
      "metadata": {
        "id": "5TNAUgqymWdY"
      },
      "source": [
        "import pandas as pd"
      ],
      "execution_count": 1,
      "outputs": []
    },
    {
      "cell_type": "code",
      "metadata": {
        "id": "MxJT22m7mZ70"
      },
      "source": [
        "data = pd.read_csv('owid-covid-data.csv')"
      ],
      "execution_count": 2,
      "outputs": []
    },
    {
      "cell_type": "code",
      "metadata": {
        "id": "XUtyVDBSnpaF"
      },
      "source": [
        "# telling panda the data types\n",
        "data.date = pd.to_datetime(data.date)\n",
        "data.location = data.location.astype('category')"
      ],
      "execution_count": 3,
      "outputs": []
    },
    {
      "cell_type": "code",
      "metadata": {
        "id": "2raPydqzqdTU"
      },
      "source": [
        "# deletes all data except for listed\n",
        "subset_data = data[['continent', 'location', 'date', 'new_cases', 'new_tests']]\n",
        "\n",
        "# choose country here:\n",
        "subset_data = subset_data[subset_data.location == 'Australia']\n",
        "\n",
        "subset_data.new_cases = subset_data.new_cases.astype('int64')\n",
        "subset_data.new_tests = subset_data.new_tests.fillna(0)\n",
        "subset_data.new_tests = subset_data.new_tests.astype('int64')\n",
        "subset_data.index = subset_data.date"
      ],
      "execution_count": 6,
      "outputs": []
    },
    {
      "cell_type": "code",
      "metadata": {
        "id": "ctu5ceswtpk-"
      },
      "source": [
        "# adds all the days of each month\n",
        "subset_data.groupby(pd.Grouper(freq='m')).sum()"
      ],
      "execution_count": null,
      "outputs": []
    },
    {
      "cell_type": "code",
      "metadata": {
        "id": "FRMB3pqOdXZq"
      },
      "source": [
        "df = pd.DataFrame(subset_data, columns= ['continent', 'location', 'date', 'new_cases', 'new_tests'])\n",
        "\n",
        "# change filename\n",
        "df.to_csv ('owid_subset_data.csv', index = False, header=True)\n"
      ],
      "execution_count": 8,
      "outputs": []
    },
    {
      "cell_type": "code",
      "metadata": {
        "id": "Jyvv_DM0yT02"
      },
      "source": [
        ""
      ],
      "execution_count": null,
      "outputs": []
    },
    {
      "cell_type": "code",
      "metadata": {
        "id": "FVe6XOGNrHKB"
      },
      "source": [
        ""
      ],
      "execution_count": null,
      "outputs": []
    },
    {
      "cell_type": "code",
      "metadata": {
        "id": "9VwdIlJJrHMI"
      },
      "source": [
        ""
      ],
      "execution_count": null,
      "outputs": []
    },
    {
      "cell_type": "code",
      "metadata": {
        "id": "aj93NxkOyUf3"
      },
      "source": [
        "def data_subset(target_country, output_filename):\n",
        "    data = pd.read_csv('owid-covid-data.csv')\n",
        "\n",
        "    data.date = pd.to_datetime(data.date)\n",
        "    data.location = data.location.astype('category')\n",
        "\n",
        "    subset_data = data[['continent', 'location', 'date', 'new_cases', 'new_tests']]\n",
        "    subset_data = subset_data[subset_data.location == target_country]\n",
        "    subset_data.new_cases = subset_data.new_cases.astype('int64')\n",
        "\n",
        "    subset_data.new_tests = subset_data.new_tests.fillna(0)\n",
        "    subset_data.new_tests = subset_data.new_tests.astype('int64')\n",
        "\n",
        "    subset_data.index = subset_data.date\n",
        "\n",
        "    subset_data.groupby(pd.Grouper(freq='m')).sum()\n",
        "\n",
        "    df = pd.DataFrame(subset_data, columns= ['continent', 'location', 'date', 'new_cases', 'new_tests'])\n",
        "    df.to_csv (output_filename, index = False, header=True)"
      ],
      "execution_count": 7,
      "outputs": []
    },
    {
      "cell_type": "code",
      "metadata": {
        "id": "Eahc0vhByUjP"
      },
      "source": [
        "data_subset('Unite Kingdom', 'owid_UK.csv')"
      ],
      "execution_count": 8,
      "outputs": []
    },
    {
      "cell_type": "code",
      "metadata": {
        "id": "gTIOPhgEpsoB"
      },
      "source": [
        ""
      ],
      "execution_count": null,
      "outputs": []
    },
    {
      "cell_type": "code",
      "metadata": {
        "id": "6iePVlikpsqP"
      },
      "source": [
        ""
      ],
      "execution_count": null,
      "outputs": []
    },
    {
      "cell_type": "code",
      "metadata": {
        "id": "j_lA5BiZpssH"
      },
      "source": [
        ""
      ],
      "execution_count": null,
      "outputs": []
    },
    {
      "cell_type": "code",
      "metadata": {
        "id": "Mjrxuk9UyUln"
      },
      "source": [
        "subset_data = subset_data.dropna(['new_cases'])"
      ],
      "execution_count": null,
      "outputs": []
    }
  ]
}