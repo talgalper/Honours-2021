{
  "nbformat": 4,
  "nbformat_minor": 0,
  "metadata": {
    "colab": {
      "name": "nextstrain_data_treatment.ipynb",
      "provenance": [],
      "collapsed_sections": [],
      "authorship_tag": "ABX9TyMHfxkSoRemdcrGFuRk3b7m",
      "include_colab_link": true
    },
    "kernelspec": {
      "name": "python3",
      "display_name": "Python 3"
    },
    "language_info": {
      "name": "python"
    }
  },
  "cells": [
    {
      "cell_type": "markdown",
      "metadata": {
        "id": "view-in-github",
        "colab_type": "text"
      },
      "source": [
        "<a href=\"https://colab.research.google.com/github/talgalper/Honours-2021/blob/main/nextstrain_data_treatment.ipynb\" target=\"_parent\"><img src=\"https://colab.research.google.com/assets/colab-badge.svg\" alt=\"Open In Colab\"/></a>"
      ]
    },
    {
      "cell_type": "code",
      "metadata": {
        "id": "UkJ9lNslBPSk"
      },
      "source": [
        "!apt-get install ncbi-blast+\n",
        "!apt-get install exonerate\n",
        "!apt-get install dssp\n",
        "!pip install biostructmap"
      ],
      "execution_count": null,
      "outputs": []
    },
    {
      "cell_type": "code",
      "metadata": {
        "id": "y7HFGBtTCMNT"
      },
      "source": [
        "import pandas as pd\n",
        "\n",
        "from collections import defaultdict\n",
        "\n",
        "import biostructmap"
      ],
      "execution_count": null,
      "outputs": []
    },
    {
      "cell_type": "code",
      "metadata": {
        "id": "OakCfq3vBGYD"
      },
      "source": [
        "ns_data = pd.read_csv('nextstrain_ncov_global_diversity.tsv', sep='\\t')\n",
        "\n",
        "s_gene_data = ns_data[ns_data.gene == 'S']\n",
        "\n",
        "pos = s_gene_data.position\n",
        "entropy = s_gene_data.entropy\n",
        "\n",
        "# Default dict will return zero if not in original entropy data.\n",
        "pos_to_entropy = defaultdict(int, zip(pos, entropy))\n",
        "\n",
        "len_of_ref_seq = 1275 # Please change to real length\n",
        "\n",
        "# Create a list that includes zeros.\n",
        "list_of_values = [pos_to_entropy[i+1] for i in range(len_of_ref_seq)]\n",
        "\n",
        "with open('global_diversity_processed.txt', 'w') as f:\n",
        "    for entropy in list_of_values:\n",
        "        f.write(f\"{entropy:0.3f}\\n\")"
      ],
      "execution_count": null,
      "outputs": []
    },
    {
      "cell_type": "code",
      "metadata": {
        "id": "bonlaZhUBTFO"
      },
      "source": [
        "def process_nextstrain_data(filename, seq_len):\n",
        "    ns_data = pd.read_csv(filename, sep='\\t')\n",
        "\n",
        "    s_gene_data = ns_data[ns_data.gene == 'S']\n",
        "\n",
        "    pos = s_gene_data.position\n",
        "    entropy = s_gene_data.entropy\n",
        "\n",
        "    # Default dict will return zero if not in original entropy data.\n",
        "    pos_to_entropy = defaultdict(int, zip(pos, entropy))\n",
        "\n",
        "    len_of_ref_seq = seq_len # Please change to real length\n",
        "\n",
        "    # Create a list that includes zeros.\n",
        "    list_of_values = [pos_to_entropy[i+1] for i in range(len_of_ref_seq)]\n",
        "    return list_of_values\n",
        "\n",
        "data = process_nextstrain_data('nextstrain_ncov_global_diversity.tsv')"
      ],
      "execution_count": null,
      "outputs": []
    },
    {
      "cell_type": "code",
      "metadata": {
        "id": "7ZOgCI0LB1-M"
      },
      "source": [
        "# Initialise structure object\n",
        "structure = biostructmap.Structure('6xm0.pdb', 'SARS-CoV-2_Spike')\n",
        "\n",
        "data = {('A,B,C',): ['global_diversity_processed.txt']}\n",
        "\n",
        "# Note: Use method='default' for mapping an ordered list of values (must contain values for each residue in the sequence.)\n",
        "results = structure.map(data, method='default', ref=None, radius=15)\n",
        "\n",
        "results.write_data_to_pdb_b_factor(fileobj='test_pdb_data_write.pdb')"
      ],
      "execution_count": null,
      "outputs": []
    }
  ]
}