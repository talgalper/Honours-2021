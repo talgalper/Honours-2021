{
  "nbformat": 4,
  "nbformat_minor": 0,
  "metadata": {
    "colab": {
      "name": "nextstrain_data_treatment.ipynb",
      "provenance": [],
      "collapsed_sections": [],
      "include_colab_link": true
    },
    "kernelspec": {
      "name": "python3",
      "display_name": "Python 3"
    },
    "language_info": {
      "name": "python"
    }
  },
  "cells": [
    {
      "cell_type": "markdown",
      "metadata": {
        "id": "view-in-github",
        "colab_type": "text"
      },
      "source": [
        "<a href=\"https://colab.research.google.com/github/talgalper/Honours-2021/blob/main/nextstrain_data_treatment.ipynb\" target=\"_parent\"><img src=\"https://colab.research.google.com/assets/colab-badge.svg\" alt=\"Open In Colab\"/></a>"
      ]
    },
    {
      "cell_type": "code",
      "metadata": {
        "id": "UkJ9lNslBPSk"
      },
      "source": [
        "!apt-get install ncbi-blast+\n",
        "!apt-get install exonerate\n",
        "!apt-get install dssp\n",
        "!pip install biostructmap"
      ],
      "execution_count": null,
      "outputs": []
    },
    {
      "cell_type": "code",
      "metadata": {
        "id": "y7HFGBtTCMNT"
      },
      "source": [
        "import pandas as pd\n",
        "from collections import defaultdict\n",
        "import biostructmap"
      ],
      "execution_count": 39,
      "outputs": []
    },
    {
      "cell_type": "code",
      "metadata": {
        "id": "OakCfq3vBGYD"
      },
      "source": [
        "def nextstrain_data_processing(filename, seq_len, gene_id):\n",
        "    ns_data = pd.read_csv(filename, sep='\\t')\n",
        "\n",
        "    s_gene_data = ns_data[ns_data.gene == gene_id]\n",
        "\n",
        "    pos = s_gene_data.position\n",
        "\n",
        "    entropy = s_gene_data.entropy\n",
        "\n",
        "    # Default dict will return zero if not in original entropy data.\n",
        "    pos_to_entropy = defaultdict(float, zip(pos, entropy))\n",
        "\n",
        "    len_of_ref_seq = seq_len\n",
        "\n",
        "    # Create a list that includes zeros.\n",
        "    list_of_values = [pos_to_entropy[i+1] for i in range(len_of_ref_seq)]\n",
        "    return list_of_values"
      ],
      "execution_count": 111,
      "outputs": []
    },
    {
      "cell_type": "code",
      "metadata": {
        "id": "mcTRM_sd_mxW"
      },
      "source": [
        "s_protein_data = nextstrain_data_processing('nextstrain_ncov_global_diversity.tsv', 1273, 'S') #changed 1275 to 1273"
      ],
      "execution_count": 112,
      "outputs": []
    },
    {
      "cell_type": "code",
      "metadata": {
        "id": "uAawhNEUUl0A",
        "colab": {
          "base_uri": "https://localhost:8080/"
        },
        "outputId": "2eb4fb79-d555-444c-c6c2-e50bb96cc671"
      },
      "source": [
        "print(s_protein_data)\n",
        "#data looks good and is now all in float format"
      ],
      "execution_count": 113,
      "outputs": [
        {
          "output_type": "stream",
          "text": [
            "[0.0, 0.004, 0.008, 0.0, 0.132, 0.032, 0.0, 0.002, 0.019, 0.0, 0.0, 0.043, 0.063, 0.013999999999999999, 0.002, 0.005, 0.005, 0.28600000000000003, 0.175, 0.2, 0.013000000000000001, 0.02, 0.004, 0.0, 0.006, 0.19899999999999998, 0.064, 0.002, 0.015, 0.0, 0.0, 0.0, 0.009000000000000001, 0.0, 0.0, 0.004, 0.0, 0.0, 0.002, 0.0, 0.0, 0.0, 0.0, 0.0, 0.0, 0.002, 0.0, 0.0, 0.026000000000000002, 0.0, 0.006, 0.079, 0.0, 0.011000000000000001, 0.0, 0.0, 0.0, 0.0, 0.0, 0.0, 0.0, 0.0, 0.002, 0.01, 0.002, 0.005, 0.102, 0.004, 0.628, 0.637, 0.013000000000000001, 0.013999999999999999, 0.006999999999999999, 0.005, 0.086, 0.073, 0.024, 0.0, 0.0, 0.254, 0.0, 0.002, 0.0, 0.002, 0.0, 0.0, 0.0, 0.004, 0.0, 0.002, 0.0, 0.0, 0.002, 0.018000000000000002, 0.165, 0.013000000000000001, 0.002, 0.052000000000000005, 0.0, 0.016, 0.0, 0.019, 0.0, 0.0, 0.002, 0.0, 0.0, 0.0, 0.0, 0.002, 0.004, 0.002, 0.0, 0.0, 0.0, 0.0, 0.0, 0.004, 0.002, 0.002, 0.002, 0.0, 0.0, 0.004, 0.0, 0.022000000000000002, 0.0, 0.002, 0.002, 0.005, 0.0, 0.0, 0.0, 0.0, 0.0, 0.006999999999999999, 0.006999999999999999, 0.231, 0.002, 0.011000000000000001, 0.057, 0.212, 0.07400000000000001, 0.682, 0.04, 0.005, 0.0, 0.013000000000000001, 0.002, 0.009000000000000001, 0.002, 0.159, 0.042, 0.073, 0.009000000000000001, 0.157, 0.209, 0.159, 0.0, 0.0, 0.0, 0.0, 0.004, 0.0, 0.0, 0.0, 0.0, 0.0, 0.002, 0.0, 0.002, 0.0, 0.006, 0.0, 0.002, 0.018000000000000002, 0.009000000000000001, 0.009000000000000001, 0.002, 0.002, 0.019, 0.005, 0.006999999999999999, 0.002, 0.002, 0.005, 0.002, 0.0, 0.015, 0.187, 0.0, 0.0, 0.0, 0.0, 0.0, 0.0, 0.002, 0.0, 0.0, 0.0, 0.0, 0.0, 0.0, 0.0, 0.002, 0.0, 0.002, 0.002, 0.0, 0.028999999999999998, 0.009000000000000001, 0.009000000000000001, 0.0, 0.011000000000000001, 0.242, 0.009000000000000001, 0.006999999999999999, 0.009000000000000001, 0.004, 0.0, 0.01, 0.124, 0.0, 0.002, 0.0, 0.0, 0.002, 0.002, 0.0, 0.0, 0.0, 0.002, 0.002, 0.002, 0.002, 0.002, 0.002, 0.002, 0.002, 0.024, 0.22699999999999998, 0.233, 0.237, 0.008, 0.025, 0.08900000000000001, 0.07400000000000001, 0.071, 0.076, 0.071, 0.073, 0.071, 0.14, 0.01, 0.004, 0.006999999999999999, 0.015, 0.023, 0.002, 0.002, 0.009000000000000001, 0.015, 0.002, 0.002, 0.005, 0.002, 0.0, 0.0, 0.0, 0.0, 0.004, 0.012, 0.002, 0.005, 0.0, 0.0, 0.0, 0.0, 0.0, 0.0, 0.01, 0.0, 0.002, 0.002, 0.0, 0.0, 0.004, 0.0, 0.002, 0.0, 0.0, 0.002, 0.0, 0.0, 0.0, 0.0, 0.0, 0.0, 0.0, 0.0, 0.0, 0.0, 0.004, 0.0, 0.0, 0.004, 0.01, 0.009000000000000001, 0.009000000000000001, 0.002, 0.0, 0.002, 0.0, 0.0, 0.0, 0.0, 0.0, 0.0, 0.0, 0.002, 0.004, 0.0, 0.004, 0.002, 0.002, 0.0, 0.0, 0.0, 0.0, 0.006, 0.002, 0.0, 0.0, 0.002, 0.002, 0.0, 0.0, 0.0, 0.0, 0.0, 0.004, 0.0, 0.0, 0.0, 0.0, 0.055, 0.0, 0.01, 0.0, 0.0, 0.0, 0.002, 0.0, 0.005, 0.0, 0.0, 0.004, 0.0, 0.0, 0.0, 0.0, 0.0, 0.0, 0.0, 0.0, 0.0, 0.039, 0.0, 0.0, 0.0, 0.0, 0.0, 0.005, 0.0, 0.0, 0.002, 0.0, 0.0, 0.0, 0.0, 0.0, 0.008, 0.0, 0.013999999999999999, 0.012, 0.0, 0.0, 0.0, 0.0, 0.0, 0.0, 0.0, 0.002, 0.005, 0.005, 0.002, 0.0, 0.0, 0.0, 0.0, 0.002, 0.0, 0.0, 0.002, 0.0, 0.0, 0.0, 0.004, 0.0, 0.0, 0.0, 0.0, 0.0, 0.045, 0.002, 0.0, 0.40700000000000003, 0.0, 0.0, 0.0, 0.0, 0.0, 0.0, 0.0, 0.0, 0.0, 0.006, 0.0, 0.0, 0.002, 0.0, 0.0, 0.0, 0.002, 0.0, 0.0, 0.0, 0.0, 0.122, 0.023, 0.0, 0.0, 0.0, 0.0, 0.012, 0.0, 0.0, 0.0, 0.013000000000000001, 0.028999999999999998, 0.0, 0.363, 0.0, 0.0, 0.004, 0.0, 0.0, 0.0, 0.017, 0.004, 0.002, 0.0, 0.0, 0.0, 0.0, 0.0, 0.0, 0.0, 0.0, 0.005, 0.01, 0.0, 0.0, 0.0, 0.0, 0.002, 0.11, 0.268, 0.005, 0.0, 0.01, 0.0, 0.004, 0.516, 0.0, 0.0, 0.0, 0.0, 0.002, 0.079, 0.0, 0.0, 0.002, 0.038, 0.002, 0.002, 0.0, 0.0, 0.002, 0.0, 0.7140000000000001, 0.0, 0.002, 0.0, 0.002, 0.0, 0.0, 0.0, 0.0, 0.0, 0.0, 0.0, 0.0, 0.0, 0.0, 0.002, 0.0, 0.0, 0.0, 0.013000000000000001, 0.002, 0.024, 0.0, 0.0, 0.0, 0.0, 0.0, 0.0, 0.0, 0.0, 0.0, 0.002, 0.0, 0.0, 0.0, 0.0, 0.002, 0.0, 0.0, 0.0, 0.0, 0.0, 0.0, 0.0, 0.0, 0.0, 0.004, 0.0, 0.0, 0.0, 0.0, 0.002, 0.004, 0.004, 0.0, 0.0, 0.0, 0.01, 0.0, 0.002, 0.0, 0.0, 0.0, 0.0, 0.006, 0.0, 0.0, 0.0, 0.0, 0.609, 0.0, 0.021, 0.004, 0.002, 0.0, 0.0, 0.0, 0.0, 0.0, 0.0, 0.0, 0.0, 0.024, 0.0, 0.002, 0.0, 0.0, 0.0, 0.0, 0.0, 0.0, 0.0, 0.0, 0.0, 0.0, 0.0, 0.0, 0.0, 0.0, 0.0, 0.0, 0.0, 0.002, 0.002, 0.0, 0.0, 0.0, 0.002, 0.0, 0.002, 0.0, 0.0, 0.038, 0.19699999999999998, 0.0, 0.002, 0.0, 0.005, 0.0, 0.0, 0.002, 0.022000000000000002, 0.009000000000000001, 0.0, 0.002, 0.019, 0.0, 0.002, 0.0, 0.0, 0.008, 0.006999999999999999, 0.0, 0.0, 0.002, 0.0, 0.0, 0.005, 0.0, 0.03, 0.002, 0.0, 0.0, 0.0, 0.0, 0.002, 0.004, 0.0, 0.0, 0.0, 0.0, 0.002, 0.026000000000000002, 0.011000000000000001, 0.201, 0.0, 0.0, 0.002, 0.0, 0.002, 0.0, 0.0, 0.0, 0.0, 0.0, 0.0, 0.0, 0.0, 0.0, 0.0, 0.0, 0.0, 0.002, 0.006, 0.085, 0.006999999999999999, 0.187, 0.005, 0.006, 0.002, 0.867, 0.0, 0.0, 0.008, 0.0, 0.002, 0.004, 0.027999999999999997, 0.013999999999999999, 0.002, 0.002, 0.0, 0.0, 0.01, 0.0, 0.0, 0.002, 0.0, 0.016, 0.0, 0.259, 0.0, 0.002, 0.013999999999999999, 0.002, 0.03, 0.0, 0.0, 0.0, 0.0, 0.0, 0.002, 0.002, 0.002, 0.0, 0.611, 0.0, 0.0, 0.0, 0.0, 0.002, 0.0, 0.0, 0.0, 0.0, 0.0, 0.0, 0.0, 0.0, 0.0, 0.004, 0.177, 0.0, 0.0, 0.01, 0.0, 0.0, 0.0, 0.0, 0.0, 0.0, 0.0, 0.0, 0.002, 0.004, 0.0, 0.011000000000000001, 0.0, 0.0, 0.0, 0.006999999999999999, 0.002, 0.0, 0.0, 0.0, 0.0, 0.0, 0.0, 0.0, 0.0, 0.0, 0.0, 0.0, 0.0, 0.0, 0.0, 0.0, 0.0, 0.062, 0.002, 0.006, 0.016, 0.0, 0.0, 0.0, 0.0, 0.0, 0.013000000000000001, 0.013000000000000001, 0.015, 0.0, 0.0, 0.0, 0.005, 0.002, 0.002, 0.005, 0.0, 0.0, 0.002, 0.002, 0.0, 0.006999999999999999, 0.0, 0.0, 0.053, 0.006999999999999999, 0.0, 0.0, 0.0, 0.0, 0.0, 0.002, 0.0, 0.002, 0.0, 0.0, 0.0, 0.013999999999999999, 0.0, 0.0, 0.027999999999999997, 0.004, 0.002, 0.0, 0.0, 0.0, 0.002, 0.0, 0.0, 0.002, 0.008, 0.0, 0.002, 0.0, 0.005, 0.0, 0.0, 0.0, 0.0, 0.002, 0.002, 0.0, 0.0, 0.002, 0.002, 0.0, 0.0, 0.011000000000000001, 0.0, 0.002, 0.002, 0.011000000000000001, 0.006, 0.026000000000000002, 0.01, 0.0, 0.0, 0.0, 0.002, 0.0, 0.0, 0.0, 0.002, 0.0, 0.0, 0.0, 0.0, 0.084, 0.0, 0.0, 0.0, 0.002, 0.0, 0.0, 0.0, 0.0, 0.0, 0.0, 0.0, 0.0, 0.0, 0.0, 0.002, 0.0, 0.0, 0.0, 0.0, 0.015, 0.0, 0.0, 0.0, 0.0, 0.0, 0.0, 0.0, 0.0, 0.078, 0.0, 0.0, 0.0, 0.002, 0.0, 0.0, 0.0, 0.002, 0.0, 0.0, 0.021, 0.0, 0.0, 0.0, 0.0, 0.0, 0.0, 0.0, 0.0, 0.0, 0.0, 0.0, 0.0, 0.0, 0.002, 0.005, 0.0, 0.0, 0.0, 0.0, 0.0, 0.0, 0.0, 0.0, 0.0, 0.004, 0.0, 0.0, 0.0, 0.0, 0.006999999999999999, 0.0, 0.0, 0.009000000000000001, 0.0, 0.005, 0.004, 0.040999999999999995, 0.002, 0.006, 0.024, 0.004, 0.0, 0.002, 0.0, 0.0, 0.0, 0.002, 0.002, 0.0, 0.0, 0.188, 0.0, 0.0, 0.0, 0.002, 0.0, 0.0, 0.017, 0.0, 0.0, 0.0, 0.0, 0.0, 0.0, 0.0, 0.0, 0.0, 0.0, 0.0, 0.0, 0.0, 0.0, 0.0, 0.0, 0.0, 0.0, 0.002, 0.0, 0.0, 0.0, 0.0, 0.0, 0.604, 0.0, 0.0, 0.0, 0.002, 0.0, 0.0, 0.0, 0.0, 0.0, 0.0, 0.0, 0.0, 0.0, 0.0, 0.0, 0.0, 0.0, 0.0, 0.0, 0.0, 0.0, 0.0, 0.002, 0.002, 0.0, 0.0, 0.002, 0.0, 0.0, 0.0, 0.0, 0.0, 0.0, 0.004, 0.0, 0.004, 0.0, 0.011000000000000001, 0.0, 0.0, 0.0, 0.0, 0.0, 0.0, 0.201, 0.0, 0.0, 0.0, 0.0, 0.0, 0.0, 0.0, 0.0, 0.0, 0.0, 0.0, 0.0, 0.002, 0.0, 0.0, 0.0, 0.0, 0.006999999999999999, 0.0, 0.0, 0.0, 0.0, 0.002, 0.0, 0.008, 0.0, 0.0, 0.0, 0.0, 0.0, 0.006999999999999999, 0.0, 0.0, 0.0, 0.0, 0.002, 0.0, 0.002, 0.002, 0.0, 0.008, 0.0, 0.002, 0.068, 0.0, 0.006999999999999999, 0.0, 0.0, 0.0, 0.0, 0.019, 0.002, 0.0, 0.0, 0.0, 0.002, 0.002, 0.002, 0.0, 0.002, 0.0, 0.0, 0.002, 0.005, 0.002, 0.0, 0.0, 0.0, 0.0, 0.0, 0.0, 0.0, 0.0, 0.061, 0.0, 0.0, 0.012, 0.0, 0.0, 0.0, 0.005, 0.0, 0.0, 0.006, 0.0, 0.0, 0.0, 0.0, 0.0, 0.021, 0.612, 0.0, 0.002, 0.0, 0.005, 0.0, 0.013999999999999999, 0.0, 0.0, 0.011000000000000001, 0.005, 0.002, 0.002, 0.0, 0.002, 0.004, 0.0, 0.0, 0.0, 0.002, 0.0, 0.0, 0.0, 0.006, 0.0, 0.005, 0.005, 0.0, 0.005, 0.002, 0.0, 0.0, 0.002, 0.002, 0.0, 0.006999999999999999, 0.0, 0.0, 0.004, 0.006999999999999999, 0.005, 0.028999999999999998, 0.0, 0.0, 0.018000000000000002, 0.006999999999999999, 0.0, 0.004, 0.0, 0.046, 0.002, 0.002, 0.0, 0.002, 0.0, 0.0, 0.004, 0.0, 0.247, 0.0, 0.0, 0.0, 0.0, 0.0, 0.002, 0.002, 0.0, 0.002, 0.002, 0.005, 0.0, 0.0, 0.0, 0.047, 0.002, 0.0, 0.0, 0.0, 0.0, 0.0, 0.0, 0.002, 0.0, 0.002, 0.012, 0.0, 0.0, 0.0, 0.0, 0.004, 0.004, 0.0, 0.0, 0.0, 0.0, 0.0, 0.0, 0.0, 0.0, 0.0, 0.0, 0.043, 0.0, 0.0, 0.0, 0.0, 0.002, 0.002, 0.0, 0.0, 0.023, 0.018000000000000002, 0.002, 0.002, 0.0, 0.004, 0.002, 0.006, 0.002, 0.027999999999999997, 0.002, 0.0, 0.0, 0.0, 0.0, 0.004, 0.0, 0.005, 0.0, 0.011000000000000001, 0.004, 0.0, 0.0, 0.015, 0.013999999999999999, 0.0, 0.0, 0.0, 0.0, 0.0, 0.038, 0.016, 0.009000000000000001, 0.002, 0.0, 0.005, 0.027999999999999997, 0.004, 0.0, 0.002, 0.0, 0.0, 0.0, 0.0, 0.0, 0.0]\n"
          ],
          "name": "stdout"
        }
      ]
    },
    {
      "cell_type": "code",
      "metadata": {
        "id": "s_gd2QBiUmkJ"
      },
      "source": [
        ""
      ],
      "execution_count": null,
      "outputs": []
    },
    {
      "cell_type": "code",
      "metadata": {
        "id": "HOpuMJGsUmnQ"
      },
      "source": [
        ""
      ],
      "execution_count": null,
      "outputs": []
    },
    {
      "cell_type": "code",
      "metadata": {
        "id": "_GGUzpM-Bv41"
      },
      "source": [
        ""
      ],
      "execution_count": null,
      "outputs": []
    },
    {
      "cell_type": "code",
      "metadata": {
        "id": "nZc9mYBo8QIY"
      },
      "source": [
        "#removes fasta file header\n",
        "def ref_seq_fasta_format(fasta_filename):\n",
        "    with open(fasta_filename) as f:\n",
        "        seq_lines = f.readlines()\n",
        "    formatted_seq_lines = str(seq_lines[1:]) #was on the wrong indentation before.\n",
        "    return formatted_seq_lines\n",
        "    \n",
        "    #formatted_seq_lines = removed_fasta_seq_lines.replace('/n', '')\n",
        "    #this is just a piece of code i was thinking to use (doesnt work) to get rid of /n. maybe not even necessary."
      ],
      "execution_count": 114,
      "outputs": []
    },
    {
      "cell_type": "code",
      "metadata": {
        "id": "KdpnlxvGUN_L"
      },
      "source": [
        "ref_seq = ref_seq_fasta_format('sars_cov_2_spike_ref_seq.fasta')"
      ],
      "execution_count": 115,
      "outputs": []
    },
    {
      "cell_type": "code",
      "metadata": {
        "colab": {
          "base_uri": "https://localhost:8080/"
        },
        "id": "ZSvP83j5Cbzf",
        "outputId": "1a69e04b-de84-4c03-855d-c22279e06d97"
      },
      "source": [
        "print(ref_seq) #everything seems to check out."
      ],
      "execution_count": 116,
      "outputs": [
        {
          "output_type": "stream",
          "text": [
            "['MFVFLVLLPLVSSQCVNLTTRTQLPPAYTNSFTRGVYYPDKVFRSSVLHSTQDLFLPFFSNVTWFHAIHV\\n', 'SGTNGTKRFDNPVLPFNDGVYFASTEKSNIIRGWIFGTTLDSKTQSLLIVNNATNVVIKVCEFQFCNDPF\\n', 'LGVYYHKNNKSWMESEFRVYSSANNCTFEYVSQPFLMDLEGKQGNFKNLREFVFKNIDGYFKIYSKHTPI\\n', 'NLVRDLPQGFSALEPLVDLPIGINITRFQTLLALHRSYLTPGDSSSGWTAGAAAYYVGYLQPRTFLLKYN\\n', 'ENGTITDAVDCALDPLSETKCTLKSFTVEKGIYQTSNFRVQPTESIVRFPNITNLCPFGEVFNATRFASV\\n', 'YAWNRKRISNCVADYSVLYNSASFSTFKCYGVSPTKLNDLCFTNVYADSFVIRGDEVRQIAPGQTGKIAD\\n', 'YNYKLPDDFTGCVIAWNSNNLDSKVGGNYNYLYRLFRKSNLKPFERDISTEIYQAGSTPCNGVEGFNCYF\\n', 'PLQSYGFQPTNGVGYQPYRVVVLSFELLHAPATVCGPKKSTNLVKNKCVNFNFNGLTGTGVLTESNKKFL\\n', 'PFQQFGRDIADTTDAVRDPQTLEILDITPCSFGGVSVITPGTNTSNQVAVLYQDVNCTEVPVAIHADQLT\\n', 'PTWRVYSTGSNVFQTRAGCLIGAEHVNNSYECDIPIGAGICASYQTQTNSPRRARSVASQSIIAYTMSLG\\n', 'AENSVAYSNNSIAIPTNFTISVTTEILPVSMTKTSVDCTMYICGDSTECSNLLLQYGSFCTQLNRALTGI\\n', 'AVEQDKNTQEVFAQVKQIYKTPPIKDFGGFNFSQILPDPSKPSKRSFIEDLLFNKVTLADAGFIKQYGDC\\n', 'LGDIAARDLICAQKFNGLTVLPPLLTDEMIAQYTSALLAGTITSGWTFGAGAALQIPFAMQMAYRFNGIG\\n', 'VTQNVLYENQKLIANQFNSAIGKIQDSLSSTASALGKLQDVVNQNAQALNTLVKQLSSNFGAISSVLNDI\\n', 'LSRLDKVEAEVQIDRLITGRLQSLQTYVTQQLIRAAEIRASANLAATKMSECVLGQSKRVDFCGKGYHLM\\n', 'SFPQSAPHGVVFLHVTYVPAQEKNFTTAPAICHDGKAHFPREGVFVSNGTHWFVTQRNFYEPQIITTDNT\\n', 'FVSGNCDVVIGIVNNTVYDPLQPELDSFKEELDKYFKNHTSPDVDLGDISGINASVVNIQKEIDRLNEVA\\n', 'KNLNESLIDLQELGKYEQYIKWPWYIWLGFIAGLIAIVMVTIMLCCMTSCCSCLKGCCSCGSCCKFDEDD\\n', 'SEPVLKGVKLHYT\\n', '\\n']\n"
          ],
          "name": "stdout"
        }
      ]
    },
    {
      "cell_type": "code",
      "metadata": {
        "id": "8RcTecXeCeI_"
      },
      "source": [
        ""
      ],
      "execution_count": null,
      "outputs": []
    },
    {
      "cell_type": "code",
      "metadata": {
        "id": "jst4FKafnjgg"
      },
      "source": [
        ""
      ],
      "execution_count": null,
      "outputs": []
    },
    {
      "cell_type": "code",
      "metadata": {
        "id": "p6cBbEA4CeLX"
      },
      "source": [
        ""
      ],
      "execution_count": null,
      "outputs": []
    },
    {
      "cell_type": "code",
      "metadata": {
        "id": "7ZOgCI0LB1-M"
      },
      "source": [
        "#changed formatted_seq_lines to input_data which is the s_protein_data\n",
        "def biostructmap_analysis(pdb_structure, gene_name, input_data, ref_sequence, output_filename):\n",
        "    # Initialise structure object\n",
        "    structure = biostructmap.Structure(pdb_structure, gene_name)\n",
        "\n",
        "    data = {\n",
        "        'A': \n",
        "            input_data,\n",
        "        'B':\n",
        "            input_data,\n",
        "        'C':\n",
        "            input_data,\n",
        "    }\n",
        " \n",
        "    #data = {chains: input_data}\n",
        "    #commented this out for now until i get everything working (got confusing having it as a variable). \n",
        "    #just want it to work for this dataset at the moment.\n",
        "\n",
        "    # Note: Use method='default' for mapping an ordered list of values (must contain values for each residue in the sequence.)\n",
        "    results = structure.map(data, method='default', ref=ref_sequence, radius=15)\n",
        "\n",
        "    results.write_data_to_pdb_b_factor(fileobj=output_filename)"
      ],
      "execution_count": 117,
      "outputs": []
    },
    {
      "cell_type": "code",
      "metadata": {
        "id": "8F-WAPP8eBQa"
      },
      "source": [
        "#seems like theres still something worng with the chain_id data. dont understand this: Output should be in the form {('A', 17): ('A', (' ', 24, ' ')), ...}\n",
        "#changed seq_len to match nextstrain ref_seq. still got error that values dont match with residues.\n",
        "#something wrong with matching residues to that in the .pdb. not sure?"
      ],
      "execution_count": null,
      "outputs": []
    },
    {
      "cell_type": "code",
      "metadata": {
        "id": "rrCw8vp7H5Z3",
        "colab": {
          "base_uri": "https://localhost:8080/",
          "height": 646
        },
        "outputId": "6718923a-e82b-4b00-859a-af935c67238f"
      },
      "source": [
        "biostructmap_analysis('6xm0.pdb', 'sars_cov_2_spike', s_protein_data, ref_seq, 'biostructmap_global_diversity.pdb')"
      ],
      "execution_count": 118,
      "outputs": [
        {
          "output_type": "stream",
          "text": [
            "/usr/local/lib/python3.7/dist-packages/Bio/PDB/StructureBuilder.py:92: PDBConstructionWarning: WARNING: Chain A is discontinuous at line 26695.\n",
            "  PDBConstructionWarning,\n",
            "/usr/local/lib/python3.7/dist-packages/Bio/PDB/StructureBuilder.py:92: PDBConstructionWarning: WARNING: Chain B is discontinuous at line 26849.\n",
            "  PDBConstructionWarning,\n",
            "/usr/local/lib/python3.7/dist-packages/Bio/PDB/StructureBuilder.py:92: PDBConstructionWarning: WARNING: Chain C is discontinuous at line 26975.\n",
            "  PDBConstructionWarning,\n"
          ],
          "name": "stderr"
        },
        {
          "output_type": "error",
          "ename": "AttributeError",
          "evalue": "ignored",
          "traceback": [
            "\u001b[0;31m---------------------------------------------------------------------------\u001b[0m",
            "\u001b[0;31mAttributeError\u001b[0m                            Traceback (most recent call last)",
            "\u001b[0;32m<ipython-input-118-d6aecb34491f>\u001b[0m in \u001b[0;36m<module>\u001b[0;34m()\u001b[0m\n\u001b[0;32m----> 1\u001b[0;31m \u001b[0mbiostructmap_analysis\u001b[0m\u001b[0;34m(\u001b[0m\u001b[0;34m'6xm0.pdb'\u001b[0m\u001b[0;34m,\u001b[0m \u001b[0;34m'sars_cov_2_spike'\u001b[0m\u001b[0;34m,\u001b[0m \u001b[0ms_protein_data\u001b[0m\u001b[0;34m,\u001b[0m \u001b[0mref_seq\u001b[0m\u001b[0;34m,\u001b[0m \u001b[0;34m'biostructmap_global_diversity.pdb'\u001b[0m\u001b[0;34m)\u001b[0m\u001b[0;34m\u001b[0m\u001b[0;34m\u001b[0m\u001b[0m\n\u001b[0m",
            "\u001b[0;32m<ipython-input-117-7fac82fda02e>\u001b[0m in \u001b[0;36mbiostructmap_analysis\u001b[0;34m(pdb_structure, gene_name, input_data, ref_sequence, output_filename)\u001b[0m\n\u001b[1;32m     18\u001b[0m \u001b[0;34m\u001b[0m\u001b[0m\n\u001b[1;32m     19\u001b[0m     \u001b[0;31m# Note: Use method='default' for mapping an ordered list of values (must contain values for each residue in the sequence.)\u001b[0m\u001b[0;34m\u001b[0m\u001b[0;34m\u001b[0m\u001b[0;34m\u001b[0m\u001b[0m\n\u001b[0;32m---> 20\u001b[0;31m     \u001b[0mresults\u001b[0m \u001b[0;34m=\u001b[0m \u001b[0mstructure\u001b[0m\u001b[0;34m.\u001b[0m\u001b[0mmap\u001b[0m\u001b[0;34m(\u001b[0m\u001b[0mdata\u001b[0m\u001b[0;34m,\u001b[0m \u001b[0mmethod\u001b[0m\u001b[0;34m=\u001b[0m\u001b[0;34m'default'\u001b[0m\u001b[0;34m,\u001b[0m \u001b[0mref\u001b[0m\u001b[0;34m=\u001b[0m\u001b[0mref_sequence\u001b[0m\u001b[0;34m,\u001b[0m \u001b[0mradius\u001b[0m\u001b[0;34m=\u001b[0m\u001b[0;36m15\u001b[0m\u001b[0;34m)\u001b[0m\u001b[0;34m\u001b[0m\u001b[0;34m\u001b[0m\u001b[0m\n\u001b[0m\u001b[1;32m     21\u001b[0m \u001b[0;34m\u001b[0m\u001b[0m\n\u001b[1;32m     22\u001b[0m     \u001b[0mresults\u001b[0m\u001b[0;34m.\u001b[0m\u001b[0mwrite_data_to_pdb_b_factor\u001b[0m\u001b[0;34m(\u001b[0m\u001b[0mfileobj\u001b[0m\u001b[0;34m=\u001b[0m\u001b[0moutput_filename\u001b[0m\u001b[0;34m)\u001b[0m\u001b[0;34m\u001b[0m\u001b[0;34m\u001b[0m\u001b[0m\n",
            "\u001b[0;32m/usr/local/lib/python3.7/dist-packages/biostructmap/biostructmap.py\u001b[0m in \u001b[0;36mmap\u001b[0;34m(self, data, method, ref, radius, selector, rsa_range, map_to_dna, method_params)\u001b[0m\n\u001b[1;32m    486\u001b[0m         \u001b[0;31m# (dna or protein) provided, as long as the residues exists within the PDB\u001b[0m\u001b[0;34m\u001b[0m\u001b[0;34m\u001b[0m\u001b[0;34m\u001b[0m\u001b[0m\n\u001b[1;32m    487\u001b[0m         \u001b[0;31m# structure (ie has coordinates)\u001b[0m\u001b[0;34m\u001b[0m\u001b[0;34m\u001b[0m\u001b[0;34m\u001b[0m\u001b[0m\n\u001b[0;32m--> 488\u001b[0;31m         \u001b[0mpdbnum_to_ref\u001b[0m \u001b[0;34m=\u001b[0m \u001b[0mself\u001b[0m\u001b[0;34m.\u001b[0m\u001b[0m_map_pdb_numbering_to_reference\u001b[0m\u001b[0;34m(\u001b[0m\u001b[0mref\u001b[0m\u001b[0;34m,\u001b[0m \u001b[0mmap_to_dna\u001b[0m\u001b[0;34m)\u001b[0m\u001b[0;34m\u001b[0m\u001b[0;34m\u001b[0m\u001b[0m\n\u001b[0m\u001b[1;32m    489\u001b[0m \u001b[0;34m\u001b[0m\u001b[0m\n\u001b[1;32m    490\u001b[0m         \u001b[0mresults\u001b[0m \u001b[0;34m=\u001b[0m \u001b[0;34m{\u001b[0m\u001b[0;34m}\u001b[0m\u001b[0;34m\u001b[0m\u001b[0;34m\u001b[0m\u001b[0m\n",
            "\u001b[0;32m/usr/local/lib/python3.7/dist-packages/biostructmap/biostructmap.py\u001b[0m in \u001b[0;36m_map_pdb_numbering_to_reference\u001b[0;34m(self, ref, map_to_dna)\u001b[0m\n\u001b[1;32m    531\u001b[0m         \u001b[0;31m# For each protein chain, map provided reference sequence to PDB residue identifier.\u001b[0m\u001b[0;34m\u001b[0m\u001b[0;34m\u001b[0m\u001b[0;34m\u001b[0m\u001b[0m\n\u001b[1;32m    532\u001b[0m         \u001b[0;31m# Output should be in the form {('A', 17): ('A', (' ', 24, ' ')), ...}\u001b[0m\u001b[0;34m\u001b[0m\u001b[0;34m\u001b[0m\u001b[0;34m\u001b[0m\u001b[0m\n\u001b[0;32m--> 533\u001b[0;31m         \u001b[0;32mfor\u001b[0m \u001b[0mchain_id\u001b[0m\u001b[0;34m,\u001b[0m \u001b[0mref_seq\u001b[0m \u001b[0;32min\u001b[0m \u001b[0mref\u001b[0m\u001b[0;34m.\u001b[0m\u001b[0mitems\u001b[0m\u001b[0;34m(\u001b[0m\u001b[0;34m)\u001b[0m\u001b[0;34m:\u001b[0m\u001b[0;34m\u001b[0m\u001b[0;34m\u001b[0m\u001b[0m\n\u001b[0m\u001b[1;32m    534\u001b[0m             \u001b[0;32mif\u001b[0m \u001b[0mmap_to_dna\u001b[0m\u001b[0;34m:\u001b[0m\u001b[0;34m\u001b[0m\u001b[0;34m\u001b[0m\u001b[0m\n\u001b[1;32m    535\u001b[0m                 \u001b[0mchain_pdbindex_to_ref\u001b[0m \u001b[0;34m=\u001b[0m \u001b[0malign_protein_to_dna\u001b[0m\u001b[0;34m(\u001b[0m\u001b[0mself\u001b[0m\u001b[0;34m.\u001b[0m\u001b[0msequences\u001b[0m\u001b[0;34m[\u001b[0m\u001b[0mchain_id\u001b[0m\u001b[0;34m]\u001b[0m\u001b[0;34m,\u001b[0m \u001b[0mref_seq\u001b[0m\u001b[0;34m)\u001b[0m\u001b[0;34m\u001b[0m\u001b[0;34m\u001b[0m\u001b[0m\n",
            "\u001b[0;31mAttributeError\u001b[0m: 'str' object has no attribute 'items'"
          ]
        }
      ]
    },
    {
      "cell_type": "code",
      "metadata": {
        "id": "H1nEr5a-mhzQ"
      },
      "source": [
        ""
      ],
      "execution_count": null,
      "outputs": []
    },
    {
      "cell_type": "code",
      "metadata": {
        "id": "UG5Fk3lCyvjw"
      },
      "source": [
        ""
      ],
      "execution_count": null,
      "outputs": []
    },
    {
      "cell_type": "code",
      "metadata": {
        "id": "t0Y9vknAyvpT"
      },
      "source": [
        ""
      ],
      "execution_count": null,
      "outputs": []
    },
    {
      "cell_type": "code",
      "metadata": {
        "id": "LrF_dFAhyvrq"
      },
      "source": [
        ""
      ],
      "execution_count": null,
      "outputs": []
    },
    {
      "cell_type": "code",
      "metadata": {
        "id": "Ougl7uujwsFu"
      },
      "source": [
        " with open('process_diversity_data.txt', 'w') as f:\n",
        "        for entropy in list_of_values:\n",
        "            f.write(f\"{entropy:0.3f}\\n\")"
      ],
      "execution_count": null,
      "outputs": []
    }
  ]
}