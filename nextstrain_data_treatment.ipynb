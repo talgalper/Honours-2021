{
  "nbformat": 4,
  "nbformat_minor": 0,
  "metadata": {
    "colab": {
      "name": "nextstrain_data_treatment.ipynb",
      "provenance": [],
      "collapsed_sections": [],
      "authorship_tag": "ABX9TyM26lPgtQDQISP8jYQ2rvQv",
      "include_colab_link": true
    },
    "kernelspec": {
      "name": "python3",
      "display_name": "Python 3"
    },
    "language_info": {
      "name": "python"
    }
  },
  "cells": [
    {
      "cell_type": "markdown",
      "metadata": {
        "id": "view-in-github",
        "colab_type": "text"
      },
      "source": [
        "<a href=\"https://colab.research.google.com/github/talgalper/Honours-2021/blob/main/nextstrain_data_treatment.ipynb\" target=\"_parent\"><img src=\"https://colab.research.google.com/assets/colab-badge.svg\" alt=\"Open In Colab\"/></a>"
      ]
    },
    {
      "cell_type": "code",
      "metadata": {
        "id": "UkJ9lNslBPSk"
      },
      "source": [
        "!apt-get install ncbi-blast+\n",
        "!apt-get install exonerate\n",
        "!apt-get install dssp\n",
        "!pip install biostructmap"
      ],
      "execution_count": null,
      "outputs": []
    },
    {
      "cell_type": "code",
      "metadata": {
        "id": "y7HFGBtTCMNT"
      },
      "source": [
        "import pandas as pd\n",
        "from collections import defaultdict\n",
        "import biostructmap"
      ],
      "execution_count": null,
      "outputs": []
    },
    {
      "cell_type": "code",
      "metadata": {
        "id": "OakCfq3vBGYD"
      },
      "source": [
        "def nextstrain_data_processing(filename, seq_len, gene_id):\n",
        "    ns_data = pd.read_csv(filename, sep='\\t')\n",
        "\n",
        "    s_gene_data = ns_data[ns_data.gene == gene_id]\n",
        "\n",
        "    pos = s_gene_data.position\n",
        "\n",
        "    entropy = s_gene_data.entropy\n",
        "\n",
        "    # Default dict will return zero if not in original entropy data.\n",
        "    pos_to_entropy = defaultdict(int, zip(pos, entropy))\n",
        "\n",
        "    len_of_ref_seq = seq_len\n",
        "\n",
        "    # Create a list that includes zeros.\n",
        "    list_of_values = [pos_to_entropy[i+1] for i in range(len_of_ref_seq)]\n",
        "\n",
        "    with open('process_diversity_data.txt', 'w') as f:\n",
        "        for entropy in list_of_values:\n",
        "            f.write(f\"{entropy:0.3f}\\n\")"
      ],
      "execution_count": 14,
      "outputs": []
    },
    {
      "cell_type": "code",
      "metadata": {
        "id": "mcTRM_sd_mxW"
      },
      "source": [
        "nextstrain_data_processing('nextstrain_ncov_global_diversity.tsv', 1275, 'S')"
      ],
      "execution_count": 15,
      "outputs": []
    },
    {
      "cell_type": "code",
      "metadata": {
        "id": "7ZOgCI0LB1-M"
      },
      "source": [
        "def biostructmap_analysis(pdb_structure, gene_name, chains, output_filename):\n",
        "    # Initialise structure object\n",
        "    structure = biostructmap.Structure(pdb_structure, gene_name)\n",
        "\n",
        "    data = {(chains): ['procecssed_diversity_data.txt']}\n",
        "\n",
        "    # Note: Use method='default' for mapping an ordered list of values (must contain values for each residue in the sequence.)\n",
        "    results = structure.map(data, method='default', ref=None, radius=15)\n",
        "\n",
        "    results.write_data_to_pdb_b_factor(fileobj=output_filename)"
      ],
      "execution_count": 21,
      "outputs": []
    },
    {
      "cell_type": "code",
      "metadata": {
        "id": "rrCw8vp7H5Z3"
      },
      "source": [
        "biostructmap_analysis('6xm0.pdb', 'sars_cov_2_spike', ('a,b,c'), 'biostructmap_global_diversity.pdb')"
      ],
      "execution_count": null,
      "outputs": []
    }
  ]
}