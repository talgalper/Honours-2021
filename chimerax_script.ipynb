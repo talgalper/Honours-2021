{
  "nbformat": 4,
  "nbformat_minor": 0,
  "metadata": {
    "orig_nbformat": 4,
    "colab": {
      "name": "chimerax_script.ipynb",
      "provenance": [],
      "include_colab_link": true
    },
    "language_info": {
      "name": "python"
    },
    "kernelspec": {
      "name": "python3",
      "display_name": "Python 3"
    }
  },
  "cells": [
    {
      "cell_type": "markdown",
      "metadata": {
        "id": "view-in-github",
        "colab_type": "text"
      },
      "source": [
        "<a href=\"https://colab.research.google.com/github/talgalper/Honours-2021/blob/main/chimerax_script.ipynb\" target=\"_parent\"><img src=\"https://colab.research.google.com/assets/colab-badge.svg\" alt=\"Open In Colab\"/></a>"
      ]
    },
    {
      "cell_type": "code",
      "metadata": {
        "id": "XjZKjibBjIv7"
      },
      "source": [
        "# Need to reassess function arguments\n",
        "def chimerax_commands(filename, del_chain, output_filename):\n",
        "    '''Generate chimerax commands for analysis of Biostructmap data file\n",
        "\n",
        "    applies electrostatic molecular view, colours bfactor with rainbow palette\n",
        "    and saves 3 screenshots of the front, side and top of the protein.\n",
        "\n",
        "    Args:\n",
        "        filename: file path to biostructmap.pdb data.\n",
        "        del_chain: chains to be deleted from structure.\n",
        "        output_filename: filneame of images.\n",
        "    Returns:\n",
        "        str: A string of commands to write to script file.\n",
        "    '''\n",
        "    \n",
        "    chimerax_str = (f'close\\n'\n",
        "                    f'log clear\\n'\n",
        "                    f'cd \\\\Users\\\\talga\\\\OneDrive\\\\Documents\\\\Honours\\\\Honours_Project\\\\Project_Data\\\\Biostructmap_pdb_files_(6acg)\\n'\n",
        "                    f'open {filename}\\n'\n",
        "                    f'delete /{del_chain}\\n'\n",
        "                    f'coulombic\\n'\n",
        "                    f'color bfactor protein range 0,15 palette rainbow\\n'\n",
        "                    f'view matrix camera -0.231,0.10336,0.96745,842.11,-0.97219,0.014967,-0.23373,29.692,-0.038639,-0.99453,0.097029,254.59\\n'\n",
        "                    f'view matrix model #1,1,0,0,0,0,1,0,0,0,0,1,0,#1.1,1,0,0,0,0,1,0,0,0,0,1,0,#1.2,1,0,0,0,0,1,0,0,0,0,1,0,#1.3,1,0,0,0,0,1,0,0,0,0,1,0,#1.4,1,0,0,0,0,1,0,0,0,0,1,0\\n'\n",
        "                    f'save C:\\\\Users\\\\talga\\\\Desktop\\\\{output_filename}(front).png supersample 3\\n'\n",
        "                    f'turn 90,0,0\\n'\n",
        "                    f'save C:\\\\Users\\\\talga\\\\Desktop\\\\{output_filename}(top).png supersample 3\\n'\n",
        "                    f'view matrix camera 0.70493,-0.091736,0.70332,651.56,-0.70774,-0.025625,0.70602,671.53,-0.046745,-0.99545,-0.082988,131.21\\n'\n",
        "                    f'view matrix model #1,1,0,0,0,0,1,0,0,0,0,1,0,#1.1,1,0,0,0,0,1,0,0,0,0,1,0,#1.2,1,0,0,0,0,1,0,0,0,0,1,0,#1.3,1,0,0,0,0,1,0,0,0,0,1,0,#1.4,1,0,0,0,0,1,0,0,0,0,1,0\\n'\n",
        "                    f'save C:\\\\Users\\\\talga\\\\Desktop\\\\{output_filename}(side).png supersample 3\\n'\n",
        "                    )\n",
        "    return chimerax_str"
      ],
      "execution_count": 22,
      "outputs": []
    },
    {
      "cell_type": "code",
      "metadata": {
        "id": "nfWyGg9zSzXC"
      },
      "source": [
        ""
      ],
      "execution_count": null,
      "outputs": []
    },
    {
      "cell_type": "code",
      "metadata": {
        "id": "tk8hiMLYjIv-"
      },
      "source": [
        "data_files = ['01biostructmap_diversity_dec_2019(21.12.2019-31.12.2019).pdb', \n",
        "              '02biostructmap_diversity_jan_2020.pdb', \n",
        "              '03biostructmap_diversity_feb_2020.pdb',\n",
        "              '04biostructmap_diversity_mar_2020.pdb',\n",
        "              '05biostructmap_diversity_apr_2020.pdb',\n",
        "              '06biostructmap_diversity_may_2020.pdb',\n",
        "              '07biostructmap_diversity_jun_2020.pdb',\n",
        "              '08biostructmap_diversity_jul_2020.pdb',\n",
        "              '09biostructmap_diversity_aug_2020.pdb',\n",
        "              '10biostructmap_diversity_sep_2020.pdb',\n",
        "              '11biostructmap_diversity_oct_2020.pdb',\n",
        "              '12biostructmap_diversity_nov_2020.pdb',\n",
        "              '13biostructmap_diversity_dec_2020.pdb',\n",
        "              '14biostructmap_diversity_jan_2021.pdb',\n",
        "              '15biostructmap_diversity_feb_2021.pdb',\n",
        "              '16biostructmap_diversity_mar_2021.pdb',\n",
        "              '17biostructmap_diversity_apr_2021.pdb',\n",
        "              '18biostructmap_diversity_may_2021.pdb',\n",
        "              '19biostructmap_diversity_jun_2021.pdb',]\n",
        "\n",
        "with open('./create_chimerax_images.cxc', 'w') as f:\n",
        "        for data_file in data_files:\n",
        "            out_filename_prefix = data_file.replace('.pdb', '')\n",
        "            f.write(chimerax_commands(data_file, 'D', out_filename_prefix))\n",
        "\n",
        "            #list comprehension"
      ],
      "execution_count": 23,
      "outputs": []
    },
    {
      "cell_type": "code",
      "metadata": {
        "id": "vK9f4GeHSwor"
      },
      "source": [
        ""
      ],
      "execution_count": null,
      "outputs": []
    }
  ]
}