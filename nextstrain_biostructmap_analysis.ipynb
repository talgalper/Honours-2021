{
  "nbformat": 4,
  "nbformat_minor": 0,
  "metadata": {
    "colab": {
      "name": "nextstrain_biostructmap_analysis.ipynb",
      "provenance": [],
      "authorship_tag": "ABX9TyMevY92xtYrzogaBys4qyTV",
      "include_colab_link": true
    },
    "kernelspec": {
      "name": "python3",
      "display_name": "Python 3"
    },
    "language_info": {
      "name": "python"
    }
  },
  "cells": [
    {
      "cell_type": "markdown",
      "metadata": {
        "id": "view-in-github",
        "colab_type": "text"
      },
      "source": [
        "<a href=\"https://colab.research.google.com/github/talgalper/Honours-2021/blob/main/nextstrain_biostructmap_analysis.ipynb\" target=\"_parent\"><img src=\"https://colab.research.google.com/assets/colab-badge.svg\" alt=\"Open In Colab\"/></a>"
      ]
    },
    {
      "cell_type": "code",
      "metadata": {
        "id": "lk6RccAOgYEI"
      },
      "source": [
        "import pandas as pd\n",
        "from collections import defaultdict\n",
        "import biostructmap\n",
        "import argparse\n",
        "\n",
        "\n",
        "def nextstrain_data_processing(filename, seq_len, gene_id):\n",
        "    '''Process nextstrain data, adding 0 values for residues not already present'''\n",
        "    ns_data = pd.read_csv(filename, sep='\\t')\n",
        "    gene_data = ns_data[ns_data.gene == gene_id]\n",
        "    pos = gene_data.position\n",
        "    entropy = gene_data.entropy\n",
        "    pos_to_entropy = defaultdict(float, zip(pos, entropy))\n",
        "    len_of_ref_seq = seq_len\n",
        "    list_of_values = [pos_to_entropy[i+1] for i in range(len_of_ref_seq)]\n",
        "    return list_of_values\n",
        "\n",
        "\n",
        "def ref_seq_fasta_format(fasta_filename):\n",
        "    with open(fasta_filename) as f:\n",
        "        seq_lines = f.readlines()\n",
        "    formatted_seq_lines = seq_lines[1:]\n",
        "    new_list_lines_removed = list(map(str.strip, formatted_seq_lines)) \n",
        "    complete_format = ''.join(new_list_lines_removed)\n",
        "    return complete_format\n",
        "\n",
        "\n",
        "def biostructmap_analysis(pdb_structure, gene_name, input_data, ref_sequence, output_filename, chains):\n",
        "    structure = biostructmap.Structure(pdb_structure, gene_name)\n",
        "\n",
        "    data = {chain: input_data for chain in chains}\n",
        "    ref_seqs = {chain: ref_sequence for chain in chains}\n",
        "    results = structure.map(data, method='default', ref=ref_seqs, radius=15, rsa_range=(0.2, 1.0))\n",
        "\n",
        "    results.write_data_to_pdb_b_factor(fileobj=output_filename, scale_factor=100)\n",
        "\n",
        "\n",
        "def process_monthly_data_file(monthly_data_filename, output_filename, ref_seq_file, nextstrain_id, pdb_file, chains):\n",
        "    ref_seq = ref_seq_fasta_format(ref_seq_file)\n",
        "    protein_data = nextstrain_data_processing(monthly_data_filename, len(ref_seq), nextstrain_id)\n",
        "    biostructmap_analysis(pdb_file, \"protein_name_placeholder\", protein_data, ref_seq, output_filename, chains)\n",
        "\n",
        "\n",
        "def main():\n",
        "    parser = argparse.ArgumentParser(description='Biostructmap Analysis Pipeline')\n",
        "    parser.add_argument('diversity', metavar='INPUT', type=str,\n",
        "                        help='Input TSV file')\n",
        "    parser.add_argument('input_pdb', metavar='INPUT_PDB', type=str,\n",
        "                        help='Input PDB file')\n",
        "    parser.add_argument('output', metavar='PDB', type=str,\n",
        "                        help='Output PDB file')\n",
        "    parser.add_argument('ref_fasta', metavar='ref_fasta', type=str,\n",
        "                        help='Reference FASTA file')\n",
        "    parser.add_argument('nextstrain_id', type=str,\n",
        "                        help='Nextstrain ID')\n",
        "    parser.add_argument('chains', type=str,\n",
        "                        help='Protein chains, comma delimited')\n",
        "    args = parser.parse_args()\n",
        "    chains = args.chains.split(',')\n",
        "    process_monthly_data_file(args.diversity, args.output, args.ref_fasta, args.nextstrain_id, args.input_pdb, chains)\n",
        "\n",
        "\n",
        "if __name__ == '__main__':\n",
        "    main()\n"
      ],
      "execution_count": null,
      "outputs": []
    }
  ]
}