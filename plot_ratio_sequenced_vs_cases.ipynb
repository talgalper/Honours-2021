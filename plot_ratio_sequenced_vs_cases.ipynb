{
  "nbformat": 4,
  "nbformat_minor": 0,
  "metadata": {
    "kernelspec": {
      "name": "python3",
      "display_name": "Python 3.8.8 64-bit ('carb_ab_analysis': conda)"
    },
    "language_info": {
      "codemirror_mode": {
        "name": "ipython",
        "version": 3
      },
      "file_extension": ".py",
      "mimetype": "text/x-python",
      "name": "python",
      "nbconvert_exporter": "python",
      "pygments_lexer": "ipython3",
      "version": "3.8.8"
    },
    "interpreter": {
      "hash": "67e4258532fb55c044c9c4b9e40baa3a26c496a0a7598556d8815b4958217cf8"
    },
    "colab": {
      "name": "Plot2_ratio.ipynb",
      "provenance": [],
      "include_colab_link": true
    }
  },
  "cells": [
    {
      "cell_type": "markdown",
      "metadata": {
        "id": "view-in-github",
        "colab_type": "text"
      },
      "source": [
        "<a href=\"https://colab.research.google.com/github/talgalper/Honours-2021/blob/main/Plot2_ratio.ipynb\" target=\"_parent\"><img src=\"https://colab.research.google.com/assets/colab-badge.svg\" alt=\"Open In Colab\"/></a>"
      ]
    },
    {
      "cell_type": "code",
      "metadata": {
        "id": "yQNcV1hox8jF"
      },
      "source": [
        "import pandas as pd\n",
        "import matplotlib.pyplot as plt\n",
        "import matplotlib.ticker as ticker\n",
        "import matplotlib.dates as mdates"
      ],
      "execution_count": 1,
      "outputs": []
    },
    {
      "cell_type": "code",
      "metadata": {
        "id": "lkjMFeoSx8jH"
      },
      "source": [
        "data = pd.read_csv(\"/content/drive/MyDrive/Nextstrain_data/owid-covid-data.csv\")"
      ],
      "execution_count": 4,
      "outputs": []
    },
    {
      "cell_type": "code",
      "metadata": {
        "id": "-5ndSWXVx8jI"
      },
      "source": [
        "# data check\n",
        "data.head()"
      ],
      "execution_count": null,
      "outputs": []
    },
    {
      "cell_type": "code",
      "metadata": {
        "id": "rnpg1WB3x8jJ"
      },
      "source": [
        "# data check\n",
        "data.describe()"
      ],
      "execution_count": null,
      "outputs": []
    },
    {
      "cell_type": "code",
      "metadata": {
        "id": "dQ8t0EDQx8jK"
      },
      "source": [
        "data.date = pd.to_datetime(data.date)"
      ],
      "execution_count": 5,
      "outputs": []
    },
    {
      "cell_type": "code",
      "metadata": {
        "id": "ShZC1xXNx8jK"
      },
      "source": [
        "# data check\n",
        "data.date"
      ],
      "execution_count": null,
      "outputs": []
    },
    {
      "cell_type": "code",
      "metadata": {
        "id": "weBTu8M5x8jL"
      },
      "source": [
        "data.location = data.location.astype('category')\n",
        "data.continent = data.continent.astype('category')"
      ],
      "execution_count": 6,
      "outputs": []
    },
    {
      "cell_type": "code",
      "metadata": {
        "id": "WxYiH0m1x8jL"
      },
      "source": [
        "# data check\n",
        "data"
      ],
      "execution_count": null,
      "outputs": []
    },
    {
      "cell_type": "code",
      "metadata": {
        "id": "rs4sSkxlx8jM"
      },
      "source": [
        "subset_data = data[[\"continent\", \"location\", \"date\", \"new_cases\"]]\n",
        "subset_data = subset_data[subset_data.location == \"World\"]\n",
        "subset_data = subset_data.dropna(subset=[\"new_cases\"])\n",
        "subset_data.new_cases = subset_data.new_cases.astype('int64')\n",
        "subset_data.index = subset_data.date"
      ],
      "execution_count": 7,
      "outputs": []
    },
    {
      "cell_type": "code",
      "metadata": {
        "id": "KdHdi88Nx8jN"
      },
      "source": [
        "# data check\n",
        "subset_data"
      ],
      "execution_count": null,
      "outputs": []
    },
    {
      "cell_type": "code",
      "metadata": {
        "colab": {
          "base_uri": "https://localhost:8080/",
          "height": 638
        },
        "id": "tR6-CAfMx8jO",
        "outputId": "afbecd64-d0fb-47f4-fc7a-10e5f22bb17e"
      },
      "source": [
        "sum_months = subset_data.groupby(pd.Grouper(freq='M')).sum()\n",
        "sum_months = sum_months.reset_index()\n",
        "sum_months"
      ],
      "execution_count": 8,
      "outputs": [
        {
          "output_type": "execute_result",
          "data": {
            "text/html": [
              "<div>\n",
              "<style scoped>\n",
              "    .dataframe tbody tr th:only-of-type {\n",
              "        vertical-align: middle;\n",
              "    }\n",
              "\n",
              "    .dataframe tbody tr th {\n",
              "        vertical-align: top;\n",
              "    }\n",
              "\n",
              "    .dataframe thead th {\n",
              "        text-align: right;\n",
              "    }\n",
              "</style>\n",
              "<table border=\"1\" class=\"dataframe\">\n",
              "  <thead>\n",
              "    <tr style=\"text-align: right;\">\n",
              "      <th></th>\n",
              "      <th>date</th>\n",
              "      <th>new_cases</th>\n",
              "    </tr>\n",
              "  </thead>\n",
              "  <tbody>\n",
              "    <tr>\n",
              "      <th>0</th>\n",
              "      <td>2020-01-31</td>\n",
              "      <td>9370</td>\n",
              "    </tr>\n",
              "    <tr>\n",
              "      <th>1</th>\n",
              "      <td>2020-02-29</td>\n",
              "      <td>76087</td>\n",
              "    </tr>\n",
              "    <tr>\n",
              "      <th>2</th>\n",
              "      <td>2020-03-31</td>\n",
              "      <td>790499</td>\n",
              "    </tr>\n",
              "    <tr>\n",
              "      <th>3</th>\n",
              "      <td>2020-04-30</td>\n",
              "      <td>2405681</td>\n",
              "    </tr>\n",
              "    <tr>\n",
              "      <th>4</th>\n",
              "      <td>2020-05-31</td>\n",
              "      <td>2906074</td>\n",
              "    </tr>\n",
              "    <tr>\n",
              "      <th>5</th>\n",
              "      <td>2020-06-30</td>\n",
              "      <td>4269652</td>\n",
              "    </tr>\n",
              "    <tr>\n",
              "      <th>6</th>\n",
              "      <td>2020-07-31</td>\n",
              "      <td>7146907</td>\n",
              "    </tr>\n",
              "    <tr>\n",
              "      <th>7</th>\n",
              "      <td>2020-08-31</td>\n",
              "      <td>7904244</td>\n",
              "    </tr>\n",
              "    <tr>\n",
              "      <th>8</th>\n",
              "      <td>2020-09-30</td>\n",
              "      <td>8504362</td>\n",
              "    </tr>\n",
              "    <tr>\n",
              "      <th>9</th>\n",
              "      <td>2020-10-31</td>\n",
              "      <td>12129873</td>\n",
              "    </tr>\n",
              "    <tr>\n",
              "      <th>10</th>\n",
              "      <td>2020-11-30</td>\n",
              "      <td>17268936</td>\n",
              "    </tr>\n",
              "    <tr>\n",
              "      <th>11</th>\n",
              "      <td>2020-12-31</td>\n",
              "      <td>19348070</td>\n",
              "    </tr>\n",
              "    <tr>\n",
              "      <th>12</th>\n",
              "      <td>2021-01-31</td>\n",
              "      <td>19446155</td>\n",
              "    </tr>\n",
              "    <tr>\n",
              "      <th>13</th>\n",
              "      <td>2021-02-28</td>\n",
              "      <td>11152296</td>\n",
              "    </tr>\n",
              "    <tr>\n",
              "      <th>14</th>\n",
              "      <td>2021-03-31</td>\n",
              "      <td>14719299</td>\n",
              "    </tr>\n",
              "    <tr>\n",
              "      <th>15</th>\n",
              "      <td>2021-04-30</td>\n",
              "      <td>22503021</td>\n",
              "    </tr>\n",
              "    <tr>\n",
              "      <th>16</th>\n",
              "      <td>2021-05-31</td>\n",
              "      <td>19676316</td>\n",
              "    </tr>\n",
              "    <tr>\n",
              "      <th>17</th>\n",
              "      <td>2021-06-30</td>\n",
              "      <td>11470758</td>\n",
              "    </tr>\n",
              "    <tr>\n",
              "      <th>18</th>\n",
              "      <td>2021-07-31</td>\n",
              "      <td>8176649</td>\n",
              "    </tr>\n",
              "  </tbody>\n",
              "</table>\n",
              "</div>"
            ],
            "text/plain": [
              "         date  new_cases\n",
              "0  2020-01-31       9370\n",
              "1  2020-02-29      76087\n",
              "2  2020-03-31     790499\n",
              "3  2020-04-30    2405681\n",
              "4  2020-05-31    2906074\n",
              "5  2020-06-30    4269652\n",
              "6  2020-07-31    7146907\n",
              "7  2020-08-31    7904244\n",
              "8  2020-09-30    8504362\n",
              "9  2020-10-31   12129873\n",
              "10 2020-11-30   17268936\n",
              "11 2020-12-31   19348070\n",
              "12 2021-01-31   19446155\n",
              "13 2021-02-28   11152296\n",
              "14 2021-03-31   14719299\n",
              "15 2021-04-30   22503021\n",
              "16 2021-05-31   19676316\n",
              "17 2021-06-30   11470758\n",
              "18 2021-07-31    8176649"
            ]
          },
          "metadata": {
            "tags": []
          },
          "execution_count": 8
        }
      ]
    },
    {
      "cell_type": "code",
      "metadata": {
        "id": "tmAxhwJIx8jO"
      },
      "source": [
        ""
      ],
      "execution_count": null,
      "outputs": []
    },
    {
      "cell_type": "code",
      "metadata": {
        "id": "n7DkjAJPx8jO"
      },
      "source": [
        ""
      ],
      "execution_count": null,
      "outputs": []
    },
    {
      "cell_type": "code",
      "metadata": {
        "id": "anS6HtiKzke3"
      },
      "source": [
        ""
      ],
      "execution_count": null,
      "outputs": []
    },
    {
      "cell_type": "code",
      "metadata": {
        "colab": {
          "base_uri": "https://localhost:8080/",
          "height": 419
        },
        "id": "d21a7Uq7x8jP",
        "outputId": "3ff0b02d-b4c1-4073-f4a2-01f6191d977b"
      },
      "source": [
        "gisaid_data = pd.read_excel('/content/drive/MyDrive/Nextstrain_data/gisaid_monthly_submissions_global_2021-07-16-0358.xlsx')\n",
        "gisaid_data.drop('country_total', axis=1, inplace=True)\n",
        "gisaid_data.drop(188, inplace=True)\n",
        "gisaid_data"
      ],
      "execution_count": 9,
      "outputs": [
        {
          "output_type": "execute_result",
          "data": {
            "text/html": [
              "<div>\n",
              "<style scoped>\n",
              "    .dataframe tbody tr th:only-of-type {\n",
              "        vertical-align: middle;\n",
              "    }\n",
              "\n",
              "    .dataframe tbody tr th {\n",
              "        vertical-align: top;\n",
              "    }\n",
              "\n",
              "    .dataframe thead th {\n",
              "        text-align: right;\n",
              "    }\n",
              "</style>\n",
              "<table border=\"1\" class=\"dataframe\">\n",
              "  <thead>\n",
              "    <tr style=\"text-align: right;\">\n",
              "      <th></th>\n",
              "      <th>Unnamed: 0</th>\n",
              "      <th>01/2020</th>\n",
              "      <th>02/2020</th>\n",
              "      <th>03/2020</th>\n",
              "      <th>04/2020</th>\n",
              "      <th>05/2020</th>\n",
              "      <th>06/2020</th>\n",
              "      <th>07/2020</th>\n",
              "      <th>08/2020</th>\n",
              "      <th>09/2020</th>\n",
              "      <th>10/2020</th>\n",
              "      <th>11/2020</th>\n",
              "      <th>12/2020</th>\n",
              "      <th>01/2021</th>\n",
              "      <th>02/2021</th>\n",
              "      <th>03/2021</th>\n",
              "      <th>04/2021</th>\n",
              "      <th>05/2021</th>\n",
              "      <th>06/2021</th>\n",
              "      <th>07/2021</th>\n",
              "    </tr>\n",
              "  </thead>\n",
              "  <tbody>\n",
              "    <tr>\n",
              "      <th>0</th>\n",
              "      <td>Afghanistan</td>\n",
              "      <td>0</td>\n",
              "      <td>0</td>\n",
              "      <td>0</td>\n",
              "      <td>0</td>\n",
              "      <td>0</td>\n",
              "      <td>0</td>\n",
              "      <td>0</td>\n",
              "      <td>0</td>\n",
              "      <td>0</td>\n",
              "      <td>0</td>\n",
              "      <td>0</td>\n",
              "      <td>0</td>\n",
              "      <td>0</td>\n",
              "      <td>16</td>\n",
              "      <td>0</td>\n",
              "      <td>0</td>\n",
              "      <td>0</td>\n",
              "      <td>0</td>\n",
              "      <td>0</td>\n",
              "    </tr>\n",
              "    <tr>\n",
              "      <th>1</th>\n",
              "      <td>Albania</td>\n",
              "      <td>0</td>\n",
              "      <td>0</td>\n",
              "      <td>0</td>\n",
              "      <td>0</td>\n",
              "      <td>0</td>\n",
              "      <td>0</td>\n",
              "      <td>0</td>\n",
              "      <td>0</td>\n",
              "      <td>0</td>\n",
              "      <td>0</td>\n",
              "      <td>0</td>\n",
              "      <td>0</td>\n",
              "      <td>1</td>\n",
              "      <td>0</td>\n",
              "      <td>29</td>\n",
              "      <td>0</td>\n",
              "      <td>0</td>\n",
              "      <td>0</td>\n",
              "      <td>0</td>\n",
              "    </tr>\n",
              "    <tr>\n",
              "      <th>2</th>\n",
              "      <td>Algeria</td>\n",
              "      <td>0</td>\n",
              "      <td>0</td>\n",
              "      <td>2</td>\n",
              "      <td>1</td>\n",
              "      <td>0</td>\n",
              "      <td>0</td>\n",
              "      <td>0</td>\n",
              "      <td>0</td>\n",
              "      <td>0</td>\n",
              "      <td>0</td>\n",
              "      <td>0</td>\n",
              "      <td>0</td>\n",
              "      <td>15</td>\n",
              "      <td>4</td>\n",
              "      <td>7</td>\n",
              "      <td>0</td>\n",
              "      <td>0</td>\n",
              "      <td>0</td>\n",
              "      <td>0</td>\n",
              "    </tr>\n",
              "    <tr>\n",
              "      <th>3</th>\n",
              "      <td>Andorra</td>\n",
              "      <td>0</td>\n",
              "      <td>0</td>\n",
              "      <td>0</td>\n",
              "      <td>0</td>\n",
              "      <td>0</td>\n",
              "      <td>0</td>\n",
              "      <td>0</td>\n",
              "      <td>0</td>\n",
              "      <td>1</td>\n",
              "      <td>0</td>\n",
              "      <td>0</td>\n",
              "      <td>0</td>\n",
              "      <td>0</td>\n",
              "      <td>0</td>\n",
              "      <td>0</td>\n",
              "      <td>0</td>\n",
              "      <td>0</td>\n",
              "      <td>0</td>\n",
              "      <td>0</td>\n",
              "    </tr>\n",
              "    <tr>\n",
              "      <th>4</th>\n",
              "      <td>Angola</td>\n",
              "      <td>0</td>\n",
              "      <td>0</td>\n",
              "      <td>0</td>\n",
              "      <td>0</td>\n",
              "      <td>0</td>\n",
              "      <td>0</td>\n",
              "      <td>0</td>\n",
              "      <td>0</td>\n",
              "      <td>0</td>\n",
              "      <td>0</td>\n",
              "      <td>0</td>\n",
              "      <td>0</td>\n",
              "      <td>0</td>\n",
              "      <td>0</td>\n",
              "      <td>71</td>\n",
              "      <td>118</td>\n",
              "      <td>0</td>\n",
              "      <td>533</td>\n",
              "      <td>24</td>\n",
              "    </tr>\n",
              "    <tr>\n",
              "      <th>...</th>\n",
              "      <td>...</td>\n",
              "      <td>...</td>\n",
              "      <td>...</td>\n",
              "      <td>...</td>\n",
              "      <td>...</td>\n",
              "      <td>...</td>\n",
              "      <td>...</td>\n",
              "      <td>...</td>\n",
              "      <td>...</td>\n",
              "      <td>...</td>\n",
              "      <td>...</td>\n",
              "      <td>...</td>\n",
              "      <td>...</td>\n",
              "      <td>...</td>\n",
              "      <td>...</td>\n",
              "      <td>...</td>\n",
              "      <td>...</td>\n",
              "      <td>...</td>\n",
              "      <td>...</td>\n",
              "      <td>...</td>\n",
              "    </tr>\n",
              "    <tr>\n",
              "      <th>183</th>\n",
              "      <td>Venezuela</td>\n",
              "      <td>0</td>\n",
              "      <td>0</td>\n",
              "      <td>0</td>\n",
              "      <td>0</td>\n",
              "      <td>0</td>\n",
              "      <td>3</td>\n",
              "      <td>0</td>\n",
              "      <td>0</td>\n",
              "      <td>9</td>\n",
              "      <td>0</td>\n",
              "      <td>0</td>\n",
              "      <td>0</td>\n",
              "      <td>0</td>\n",
              "      <td>0</td>\n",
              "      <td>0</td>\n",
              "      <td>101</td>\n",
              "      <td>15</td>\n",
              "      <td>20</td>\n",
              "      <td>0</td>\n",
              "    </tr>\n",
              "    <tr>\n",
              "      <th>184</th>\n",
              "      <td>Vietnam</td>\n",
              "      <td>0</td>\n",
              "      <td>1</td>\n",
              "      <td>7</td>\n",
              "      <td>0</td>\n",
              "      <td>20</td>\n",
              "      <td>25</td>\n",
              "      <td>26</td>\n",
              "      <td>8</td>\n",
              "      <td>0</td>\n",
              "      <td>0</td>\n",
              "      <td>27</td>\n",
              "      <td>0</td>\n",
              "      <td>28</td>\n",
              "      <td>9</td>\n",
              "      <td>6</td>\n",
              "      <td>0</td>\n",
              "      <td>1</td>\n",
              "      <td>87</td>\n",
              "      <td>1</td>\n",
              "    </tr>\n",
              "    <tr>\n",
              "      <th>185</th>\n",
              "      <td>Wallis and Futuna</td>\n",
              "      <td>0</td>\n",
              "      <td>0</td>\n",
              "      <td>0</td>\n",
              "      <td>0</td>\n",
              "      <td>0</td>\n",
              "      <td>0</td>\n",
              "      <td>0</td>\n",
              "      <td>0</td>\n",
              "      <td>0</td>\n",
              "      <td>0</td>\n",
              "      <td>0</td>\n",
              "      <td>0</td>\n",
              "      <td>0</td>\n",
              "      <td>0</td>\n",
              "      <td>0</td>\n",
              "      <td>0</td>\n",
              "      <td>0</td>\n",
              "      <td>10</td>\n",
              "      <td>0</td>\n",
              "    </tr>\n",
              "    <tr>\n",
              "      <th>186</th>\n",
              "      <td>Zambia</td>\n",
              "      <td>0</td>\n",
              "      <td>0</td>\n",
              "      <td>0</td>\n",
              "      <td>0</td>\n",
              "      <td>0</td>\n",
              "      <td>0</td>\n",
              "      <td>1</td>\n",
              "      <td>0</td>\n",
              "      <td>0</td>\n",
              "      <td>0</td>\n",
              "      <td>0</td>\n",
              "      <td>0</td>\n",
              "      <td>1</td>\n",
              "      <td>219</td>\n",
              "      <td>0</td>\n",
              "      <td>0</td>\n",
              "      <td>0</td>\n",
              "      <td>38</td>\n",
              "      <td>433</td>\n",
              "    </tr>\n",
              "    <tr>\n",
              "      <th>187</th>\n",
              "      <td>Zimbabwe</td>\n",
              "      <td>0</td>\n",
              "      <td>0</td>\n",
              "      <td>0</td>\n",
              "      <td>0</td>\n",
              "      <td>0</td>\n",
              "      <td>0</td>\n",
              "      <td>0</td>\n",
              "      <td>0</td>\n",
              "      <td>0</td>\n",
              "      <td>0</td>\n",
              "      <td>100</td>\n",
              "      <td>0</td>\n",
              "      <td>0</td>\n",
              "      <td>0</td>\n",
              "      <td>301</td>\n",
              "      <td>0</td>\n",
              "      <td>0</td>\n",
              "      <td>160</td>\n",
              "      <td>0</td>\n",
              "    </tr>\n",
              "  </tbody>\n",
              "</table>\n",
              "<p>188 rows × 20 columns</p>\n",
              "</div>"
            ],
            "text/plain": [
              "            Unnamed: 0  01/2020  02/2020  ...  05/2021  06/2021  07/2021\n",
              "0          Afghanistan        0        0  ...        0        0        0\n",
              "1              Albania        0        0  ...        0        0        0\n",
              "2              Algeria        0        0  ...        0        0        0\n",
              "3              Andorra        0        0  ...        0        0        0\n",
              "4               Angola        0        0  ...        0      533       24\n",
              "..                 ...      ...      ...  ...      ...      ...      ...\n",
              "183          Venezuela        0        0  ...       15       20        0\n",
              "184            Vietnam        0        1  ...        1       87        1\n",
              "185  Wallis and Futuna        0        0  ...        0       10        0\n",
              "186             Zambia        0        0  ...        0       38      433\n",
              "187           Zimbabwe        0        0  ...        0      160        0\n",
              "\n",
              "[188 rows x 20 columns]"
            ]
          },
          "metadata": {
            "tags": []
          },
          "execution_count": 9
        }
      ]
    },
    {
      "cell_type": "code",
      "metadata": {
        "id": "0LbPsB34x8jP"
      },
      "source": [
        "gisaid_data = gisaid_data.melt(id_vars=('Unnamed: 0'))"
      ],
      "execution_count": 10,
      "outputs": []
    },
    {
      "cell_type": "code",
      "metadata": {
        "id": "okUJ3Ka3x8jQ"
      },
      "source": [
        "gisaid_data.columns = ['Country', 'Month', 'Sequenced']"
      ],
      "execution_count": 11,
      "outputs": []
    },
    {
      "cell_type": "code",
      "metadata": {
        "id": "-k8z6O6Mx8jQ"
      },
      "source": [
        "gisaid_data.Month = pd.to_datetime(gisaid_data.Month)"
      ],
      "execution_count": 12,
      "outputs": []
    },
    {
      "cell_type": "code",
      "metadata": {
        "id": "v8YKnDqVx8jQ"
      },
      "source": [
        "# data check\n",
        "gisaid_data"
      ],
      "execution_count": null,
      "outputs": []
    },
    {
      "cell_type": "code",
      "metadata": {
        "colab": {
          "base_uri": "https://localhost:8080/",
          "height": 638
        },
        "id": "u0yhEJ-4x8jQ",
        "outputId": "d6007d77-f7ae-4694-d6c8-301120760ce9"
      },
      "source": [
        "gisaid_data.index = gisaid_data.Month\n",
        "sum_months_gisaid = gisaid_data.groupby(pd.Grouper(freq='M')).sum()\n",
        "sum_months_gisaid = sum_months_gisaid.reset_index()\n",
        "sum_months_gisaid"
      ],
      "execution_count": 13,
      "outputs": [
        {
          "output_type": "execute_result",
          "data": {
            "text/html": [
              "<div>\n",
              "<style scoped>\n",
              "    .dataframe tbody tr th:only-of-type {\n",
              "        vertical-align: middle;\n",
              "    }\n",
              "\n",
              "    .dataframe tbody tr th {\n",
              "        vertical-align: top;\n",
              "    }\n",
              "\n",
              "    .dataframe thead th {\n",
              "        text-align: right;\n",
              "    }\n",
              "</style>\n",
              "<table border=\"1\" class=\"dataframe\">\n",
              "  <thead>\n",
              "    <tr style=\"text-align: right;\">\n",
              "      <th></th>\n",
              "      <th>Month</th>\n",
              "      <th>Sequenced</th>\n",
              "    </tr>\n",
              "  </thead>\n",
              "  <tbody>\n",
              "    <tr>\n",
              "      <th>0</th>\n",
              "      <td>2020-01-31</td>\n",
              "      <td>67</td>\n",
              "    </tr>\n",
              "    <tr>\n",
              "      <th>1</th>\n",
              "      <td>2020-02-29</td>\n",
              "      <td>185</td>\n",
              "    </tr>\n",
              "    <tr>\n",
              "      <th>2</th>\n",
              "      <td>2020-03-31</td>\n",
              "      <td>2944</td>\n",
              "    </tr>\n",
              "    <tr>\n",
              "      <th>3</th>\n",
              "      <td>2020-04-30</td>\n",
              "      <td>12482</td>\n",
              "    </tr>\n",
              "    <tr>\n",
              "      <th>4</th>\n",
              "      <td>2020-05-31</td>\n",
              "      <td>20058</td>\n",
              "    </tr>\n",
              "    <tr>\n",
              "      <th>5</th>\n",
              "      <td>2020-06-30</td>\n",
              "      <td>21797</td>\n",
              "    </tr>\n",
              "    <tr>\n",
              "      <th>6</th>\n",
              "      <td>2020-07-31</td>\n",
              "      <td>18215</td>\n",
              "    </tr>\n",
              "    <tr>\n",
              "      <th>7</th>\n",
              "      <td>2020-08-31</td>\n",
              "      <td>17443</td>\n",
              "    </tr>\n",
              "    <tr>\n",
              "      <th>8</th>\n",
              "      <td>2020-09-30</td>\n",
              "      <td>38602</td>\n",
              "    </tr>\n",
              "    <tr>\n",
              "      <th>9</th>\n",
              "      <td>2020-10-31</td>\n",
              "      <td>39107</td>\n",
              "    </tr>\n",
              "    <tr>\n",
              "      <th>10</th>\n",
              "      <td>2020-11-30</td>\n",
              "      <td>59771</td>\n",
              "    </tr>\n",
              "    <tr>\n",
              "      <th>11</th>\n",
              "      <td>2020-12-31</td>\n",
              "      <td>80987</td>\n",
              "    </tr>\n",
              "    <tr>\n",
              "      <th>12</th>\n",
              "      <td>2021-01-31</td>\n",
              "      <td>140851</td>\n",
              "    </tr>\n",
              "    <tr>\n",
              "      <th>13</th>\n",
              "      <td>2021-02-28</td>\n",
              "      <td>185441</td>\n",
              "    </tr>\n",
              "    <tr>\n",
              "      <th>14</th>\n",
              "      <td>2021-03-31</td>\n",
              "      <td>307232</td>\n",
              "    </tr>\n",
              "    <tr>\n",
              "      <th>15</th>\n",
              "      <td>2021-04-30</td>\n",
              "      <td>388230</td>\n",
              "    </tr>\n",
              "    <tr>\n",
              "      <th>16</th>\n",
              "      <td>2021-05-31</td>\n",
              "      <td>473636</td>\n",
              "    </tr>\n",
              "    <tr>\n",
              "      <th>17</th>\n",
              "      <td>2021-06-30</td>\n",
              "      <td>361614</td>\n",
              "    </tr>\n",
              "    <tr>\n",
              "      <th>18</th>\n",
              "      <td>2021-07-31</td>\n",
              "      <td>206664</td>\n",
              "    </tr>\n",
              "  </tbody>\n",
              "</table>\n",
              "</div>"
            ],
            "text/plain": [
              "        Month  Sequenced\n",
              "0  2020-01-31         67\n",
              "1  2020-02-29        185\n",
              "2  2020-03-31       2944\n",
              "3  2020-04-30      12482\n",
              "4  2020-05-31      20058\n",
              "5  2020-06-30      21797\n",
              "6  2020-07-31      18215\n",
              "7  2020-08-31      17443\n",
              "8  2020-09-30      38602\n",
              "9  2020-10-31      39107\n",
              "10 2020-11-30      59771\n",
              "11 2020-12-31      80987\n",
              "12 2021-01-31     140851\n",
              "13 2021-02-28     185441\n",
              "14 2021-03-31     307232\n",
              "15 2021-04-30     388230\n",
              "16 2021-05-31     473636\n",
              "17 2021-06-30     361614\n",
              "18 2021-07-31     206664"
            ]
          },
          "metadata": {
            "tags": []
          },
          "execution_count": 13
        }
      ]
    },
    {
      "cell_type": "code",
      "metadata": {
        "colab": {
          "base_uri": "https://localhost:8080/",
          "height": 638
        },
        "id": "5q0kAg6-x8jR",
        "outputId": "65b37936-769c-4018-91d8-57a2c7e1ea7b"
      },
      "source": [
        "merged_months = sum_months.merge(sum_months_gisaid, how='outer', left_on='date', right_on='Month')\n",
        "merged_months['percent_sequenced'] =  merged_months.Sequenced / merged_months.new_cases * 100\n",
        "merged_months"
      ],
      "execution_count": 14,
      "outputs": [
        {
          "output_type": "execute_result",
          "data": {
            "text/html": [
              "<div>\n",
              "<style scoped>\n",
              "    .dataframe tbody tr th:only-of-type {\n",
              "        vertical-align: middle;\n",
              "    }\n",
              "\n",
              "    .dataframe tbody tr th {\n",
              "        vertical-align: top;\n",
              "    }\n",
              "\n",
              "    .dataframe thead th {\n",
              "        text-align: right;\n",
              "    }\n",
              "</style>\n",
              "<table border=\"1\" class=\"dataframe\">\n",
              "  <thead>\n",
              "    <tr style=\"text-align: right;\">\n",
              "      <th></th>\n",
              "      <th>date</th>\n",
              "      <th>new_cases</th>\n",
              "      <th>Month</th>\n",
              "      <th>Sequenced</th>\n",
              "      <th>percent_sequenced</th>\n",
              "    </tr>\n",
              "  </thead>\n",
              "  <tbody>\n",
              "    <tr>\n",
              "      <th>0</th>\n",
              "      <td>2020-01-31</td>\n",
              "      <td>9370</td>\n",
              "      <td>2020-01-31</td>\n",
              "      <td>67</td>\n",
              "      <td>0.715048</td>\n",
              "    </tr>\n",
              "    <tr>\n",
              "      <th>1</th>\n",
              "      <td>2020-02-29</td>\n",
              "      <td>76087</td>\n",
              "      <td>2020-02-29</td>\n",
              "      <td>185</td>\n",
              "      <td>0.243143</td>\n",
              "    </tr>\n",
              "    <tr>\n",
              "      <th>2</th>\n",
              "      <td>2020-03-31</td>\n",
              "      <td>790499</td>\n",
              "      <td>2020-03-31</td>\n",
              "      <td>2944</td>\n",
              "      <td>0.372423</td>\n",
              "    </tr>\n",
              "    <tr>\n",
              "      <th>3</th>\n",
              "      <td>2020-04-30</td>\n",
              "      <td>2405681</td>\n",
              "      <td>2020-04-30</td>\n",
              "      <td>12482</td>\n",
              "      <td>0.518855</td>\n",
              "    </tr>\n",
              "    <tr>\n",
              "      <th>4</th>\n",
              "      <td>2020-05-31</td>\n",
              "      <td>2906074</td>\n",
              "      <td>2020-05-31</td>\n",
              "      <td>20058</td>\n",
              "      <td>0.690210</td>\n",
              "    </tr>\n",
              "    <tr>\n",
              "      <th>5</th>\n",
              "      <td>2020-06-30</td>\n",
              "      <td>4269652</td>\n",
              "      <td>2020-06-30</td>\n",
              "      <td>21797</td>\n",
              "      <td>0.510510</td>\n",
              "    </tr>\n",
              "    <tr>\n",
              "      <th>6</th>\n",
              "      <td>2020-07-31</td>\n",
              "      <td>7146907</td>\n",
              "      <td>2020-07-31</td>\n",
              "      <td>18215</td>\n",
              "      <td>0.254865</td>\n",
              "    </tr>\n",
              "    <tr>\n",
              "      <th>7</th>\n",
              "      <td>2020-08-31</td>\n",
              "      <td>7904244</td>\n",
              "      <td>2020-08-31</td>\n",
              "      <td>17443</td>\n",
              "      <td>0.220679</td>\n",
              "    </tr>\n",
              "    <tr>\n",
              "      <th>8</th>\n",
              "      <td>2020-09-30</td>\n",
              "      <td>8504362</td>\n",
              "      <td>2020-09-30</td>\n",
              "      <td>38602</td>\n",
              "      <td>0.453908</td>\n",
              "    </tr>\n",
              "    <tr>\n",
              "      <th>9</th>\n",
              "      <td>2020-10-31</td>\n",
              "      <td>12129873</td>\n",
              "      <td>2020-10-31</td>\n",
              "      <td>39107</td>\n",
              "      <td>0.322402</td>\n",
              "    </tr>\n",
              "    <tr>\n",
              "      <th>10</th>\n",
              "      <td>2020-11-30</td>\n",
              "      <td>17268936</td>\n",
              "      <td>2020-11-30</td>\n",
              "      <td>59771</td>\n",
              "      <td>0.346119</td>\n",
              "    </tr>\n",
              "    <tr>\n",
              "      <th>11</th>\n",
              "      <td>2020-12-31</td>\n",
              "      <td>19348070</td>\n",
              "      <td>2020-12-31</td>\n",
              "      <td>80987</td>\n",
              "      <td>0.418579</td>\n",
              "    </tr>\n",
              "    <tr>\n",
              "      <th>12</th>\n",
              "      <td>2021-01-31</td>\n",
              "      <td>19446155</td>\n",
              "      <td>2021-01-31</td>\n",
              "      <td>140851</td>\n",
              "      <td>0.724313</td>\n",
              "    </tr>\n",
              "    <tr>\n",
              "      <th>13</th>\n",
              "      <td>2021-02-28</td>\n",
              "      <td>11152296</td>\n",
              "      <td>2021-02-28</td>\n",
              "      <td>185441</td>\n",
              "      <td>1.662806</td>\n",
              "    </tr>\n",
              "    <tr>\n",
              "      <th>14</th>\n",
              "      <td>2021-03-31</td>\n",
              "      <td>14719299</td>\n",
              "      <td>2021-03-31</td>\n",
              "      <td>307232</td>\n",
              "      <td>2.087273</td>\n",
              "    </tr>\n",
              "    <tr>\n",
              "      <th>15</th>\n",
              "      <td>2021-04-30</td>\n",
              "      <td>22503021</td>\n",
              "      <td>2021-04-30</td>\n",
              "      <td>388230</td>\n",
              "      <td>1.725235</td>\n",
              "    </tr>\n",
              "    <tr>\n",
              "      <th>16</th>\n",
              "      <td>2021-05-31</td>\n",
              "      <td>19676316</td>\n",
              "      <td>2021-05-31</td>\n",
              "      <td>473636</td>\n",
              "      <td>2.407138</td>\n",
              "    </tr>\n",
              "    <tr>\n",
              "      <th>17</th>\n",
              "      <td>2021-06-30</td>\n",
              "      <td>11470758</td>\n",
              "      <td>2021-06-30</td>\n",
              "      <td>361614</td>\n",
              "      <td>3.152486</td>\n",
              "    </tr>\n",
              "    <tr>\n",
              "      <th>18</th>\n",
              "      <td>2021-07-31</td>\n",
              "      <td>8176649</td>\n",
              "      <td>2021-07-31</td>\n",
              "      <td>206664</td>\n",
              "      <td>2.527490</td>\n",
              "    </tr>\n",
              "  </tbody>\n",
              "</table>\n",
              "</div>"
            ],
            "text/plain": [
              "         date  new_cases      Month  Sequenced  percent_sequenced\n",
              "0  2020-01-31       9370 2020-01-31         67           0.715048\n",
              "1  2020-02-29      76087 2020-02-29        185           0.243143\n",
              "2  2020-03-31     790499 2020-03-31       2944           0.372423\n",
              "3  2020-04-30    2405681 2020-04-30      12482           0.518855\n",
              "4  2020-05-31    2906074 2020-05-31      20058           0.690210\n",
              "5  2020-06-30    4269652 2020-06-30      21797           0.510510\n",
              "6  2020-07-31    7146907 2020-07-31      18215           0.254865\n",
              "7  2020-08-31    7904244 2020-08-31      17443           0.220679\n",
              "8  2020-09-30    8504362 2020-09-30      38602           0.453908\n",
              "9  2020-10-31   12129873 2020-10-31      39107           0.322402\n",
              "10 2020-11-30   17268936 2020-11-30      59771           0.346119\n",
              "11 2020-12-31   19348070 2020-12-31      80987           0.418579\n",
              "12 2021-01-31   19446155 2021-01-31     140851           0.724313\n",
              "13 2021-02-28   11152296 2021-02-28     185441           1.662806\n",
              "14 2021-03-31   14719299 2021-03-31     307232           2.087273\n",
              "15 2021-04-30   22503021 2021-04-30     388230           1.725235\n",
              "16 2021-05-31   19676316 2021-05-31     473636           2.407138\n",
              "17 2021-06-30   11470758 2021-06-30     361614           3.152486\n",
              "18 2021-07-31    8176649 2021-07-31     206664           2.527490"
            ]
          },
          "metadata": {
            "tags": []
          },
          "execution_count": 14
        }
      ]
    },
    {
      "cell_type": "code",
      "metadata": {
        "id": "HfQXiDe4f_fv",
        "outputId": "2100cf40-a6a5-4bde-dc5d-9b706b59061f",
        "colab": {
          "base_uri": "https://localhost:8080/",
          "height": 645
        }
      },
      "source": [
        "fig, ax = plt.subplots()\n",
        "\n",
        "plt.xticks(rotation=45)\n",
        "fig.set_size_inches(18.5, 10.5)\n",
        "ax.plot(merged_months.date, merged_months.percent_sequenced)\n",
        "ax.xaxis.set_major_locator(mdates.MonthLocator(interval=1)) \n",
        "ax.set_ylabel(\"Samples Sequenced (%)\", labelpad=30)\n",
        "\n",
        "fig.show()"
      ],
      "execution_count": 30,
      "outputs": [
        {
          "output_type": "display_data",
          "data": {
            "image/png": "[encoded data removed]",
            "text/plain": [
              "<Figure size 1332x756 with 1 Axes>"
            ]
          },
          "metadata": {
            "tags": [],
            "needs_background": "light"
          }
        }
      ]
    },
    {
      "cell_type": "code",
      "metadata": {
        "id": "Qv4fojjKgA4s"
      },
      "source": [
        "fig.savefig('Ratio_genomes_sequenced_vs_cases')"
      ],
      "execution_count": 32,
      "outputs": []
    },
    {
      "cell_type": "code",
      "metadata": {
        "id": "8YbZSr33i3J5"
      },
      "source": [
        ""
      ],
      "execution_count": null,
      "outputs": []
    },
    {
      "cell_type": "code",
      "metadata": {
        "id": "1PrQUOK1mzhy"
      },
      "source": [
        ""
      ],
      "execution_count": null,
      "outputs": []
    },
    {
      "cell_type": "code",
      "metadata": {
        "id": "RtveioZsi3MG"
      },
      "source": [
        ""
      ],
      "execution_count": null,
      "outputs": []
    },
    {
      "cell_type": "code",
      "metadata": {
        "id": "0POqJPkYi3OX"
      },
      "source": [
        ""
      ],
      "execution_count": null,
      "outputs": []
    },
    {
      "cell_type": "code",
      "metadata": {
        "colab": {
          "base_uri": "https://localhost:8080/",
          "height": 405
        },
        "id": "Ny6Mi3HJx8jR",
        "outputId": "25454b2a-f8ea-4566-f3f7-579e20b4de10"
      },
      "source": [
        "f = plt.figure()\n",
        "f.set_figwidth(10)\n",
        "f.set_figheight(6)\n",
        "\n",
        "plt.plot(merged_months.date, merged_months.percent_sequenced)\n",
        "\n",
        "plt.xticks(rotation = 45)\n",
        "plt.ylim((0, 3.5))\n",
        "#plt.xlim([pd.to_datetime('2020-01-31'), pd.to_datetime('2021-07-31')])\n",
        "\n",
        "# show all xticks\n",
        "# save as png\n",
        "# label y axis\n",
        "\n",
        "plt.show()\n"
      ],
      "execution_count": null,
      "outputs": [
        {
          "output_type": "display_data",
          "data": {
            "image/png": "[encoded data removed]",
            "text/plain": [
              "<Figure size 720x432 with 1 Axes>"
            ]
          },
          "metadata": {
            "tags": [],
            "needs_background": "light"
          }
        }
      ]
    },
    {
      "cell_type": "code",
      "metadata": {
        "id": "W7D9XDxA0vzc"
      },
      "source": [
        ""
      ],
      "execution_count": null,
      "outputs": []
    },
    {
      "cell_type": "code",
      "metadata": {
        "id": "ToMNv8420v_X"
      },
      "source": [
        ""
      ],
      "execution_count": null,
      "outputs": []
    },
    {
      "cell_type": "code",
      "metadata": {
        "id": "cNWrOLBN0wEl"
      },
      "source": [
        ""
      ],
      "execution_count": null,
      "outputs": []
    },
    {
      "cell_type": "code",
      "metadata": {
        "id": "jjAMLRHY0wI4"
      },
      "source": [
        "# An example of how we would use the 'monthly total' row instead of summing up all countries.\n",
        "gisaid_data = pd.read_excel('gisaid_monthly_submissions_global_2021-07-16-0358.xlsx')\n",
        "gisaid_data.drop('country_total', axis=1, inplace=True)\n",
        "gisaid_data = gisaid_data[gisaid_data['Unnamed: 0'] == 'monthly total:']\n",
        "gisaid_data.melt('Unnamed: 0').drop('Unnamed: 0', axis=1)"
      ],
      "execution_count": null,
      "outputs": []
    }
  ]
}
