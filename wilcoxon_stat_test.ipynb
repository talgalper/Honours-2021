{
  "nbformat": 4,
  "nbformat_minor": 0,
  "metadata": {
    "colab": {
      "name": "wilcoxon_stat_test.ipynb",
      "provenance": [],
      "collapsed_sections": [],
      "include_colab_link": true
    },
    "interpreter": {
      "hash": "7873a835a5847783f84090c450632e03dbcdbaf3d06a0d48caf2ddd772820c87"
    },
    "kernelspec": {
      "display_name": "Python 3.6.13 64-bit ('biostructmap': conda)",
      "name": "python3"
    },
    "language_info": {
      "codemirror_mode": {
        "name": "ipython",
        "version": 3
      },
      "file_extension": ".py",
      "mimetype": "text/x-python",
      "name": "python",
      "nbconvert_exporter": "python",
      "pygments_lexer": "ipython3",
      "version": "3.6.13"
    }
  },
  "cells": [
    {
      "cell_type": "markdown",
      "metadata": {
        "id": "view-in-github",
        "colab_type": "text"
      },
      "source": [
        "<a href=\"https://colab.research.google.com/github/talgalper/Honours-2021/blob/main/wilcoxon_stat_test.ipynb\" target=\"_parent\"><img src=\"https://colab.research.google.com/assets/colab-badge.svg\" alt=\"Open In Colab\"/></a>"
      ]
    },
    {
      "cell_type": "code",
      "metadata": {
        "id": "UkJ9lNslBPSk"
      },
      "source": [
        "!apt-get install ncbi-blast+\n",
        "!apt-get install exonerate\n",
        "!apt-get install dssp\n",
        "!pip install biostructmap"
      ],
      "execution_count": null,
      "outputs": []
    },
    {
      "cell_type": "code",
      "metadata": {
        "id": "y7HFGBtTCMNT"
      },
      "source": [
        "import pandas as pd\n",
        "from collections import defaultdict\n",
        "import biostructmap"
      ],
      "execution_count": null,
      "outputs": []
    },
    {
      "cell_type": "code",
      "metadata": {
        "id": "OakCfq3vBGYD"
      },
      "source": [
        "#read in data file and file in gaps with 0 values\n",
        "def nextstrain_data_processing(filename, seq_len, gene_id):\n",
        "    ns_data = pd.read_csv(filename, sep='\\t')\n",
        "\n",
        "    s_gene_data = ns_data[ns_data.gene == gene_id]\n",
        "\n",
        "    pos = s_gene_data.position\n",
        "\n",
        "    entropy = s_gene_data.entropy\n",
        "\n",
        "    pos_to_entropy = defaultdict(float, zip(pos, entropy))\n",
        "\n",
        "    len_of_ref_seq = seq_len\n",
        "\n",
        "    list_of_values = [pos_to_entropy[i+1] for i in range(len_of_ref_seq)]\n",
        "    return list_of_values"
      ],
      "execution_count": 3,
      "outputs": []
    },
    {
      "cell_type": "code",
      "metadata": {
        "id": "mcTRM_sd_mxW"
      },
      "source": [
        "s_protein_data = nextstrain_data_processing('/home/andrew/Downloads/nextstrain_ncov_global_diversity.tsv', 1273, 'S')"
      ],
      "execution_count": null,
      "outputs": []
    },
    {
      "cell_type": "code",
      "metadata": {
        "id": "nZc9mYBo8QIY"
      },
      "source": [
        "#removes fasta file header\n",
        "def ref_seq_fasta_format(fasta_filename):\n",
        "    with open(fasta_filename) as f:\n",
        "        seq_lines = f.readlines()\n",
        "    \n",
        "    formatted_seq_lines = seq_lines[1:]\n",
        "    \n",
        "    new_list_lines_removed = list(map(str.strip, formatted_seq_lines)) \n",
        "    complete_format = ''.join(new_list_lines_removed)\n",
        "    return complete_format"
      ],
      "execution_count": 4,
      "outputs": []
    },
    {
      "cell_type": "code",
      "metadata": {
        "id": "KdpnlxvGUN_L"
      },
      "source": [
        "ref_seq = ref_seq_fasta_format('sarscov2_s_protein.fasta')"
      ],
      "execution_count": null,
      "outputs": []
    },
    {
      "cell_type": "code",
      "metadata": {
        "id": "ZSvP83j5Cbzf",
        "outputId": "97e7bf2c-f478-42c3-a3dc-8e21aeca28fe"
      },
      "source": [
        "#check\n",
        "ref_seq"
      ],
      "execution_count": null,
      "outputs": [
        {
          "data": {
            "text/plain": [
              "'MFVFLVLLPLVSSQCVNLTTRTQLPPAYTNSFTRGVYYPDKVFRSSVLHSTQDLFLPFFSNVTWFHAIHVSGTNGTKRFDNPVLPFNDGVYFASTEKSNIIRGWIFGTTLDSKTQSLLIVNNATNVVIKVCEFQFCNDPFLGVYYHKNNKSWMESEFRVYSSANNCTFEYVSQPFLMDLEGKQGNFKNLREFVFKNIDGYFKIYSKHTPINLVRDLPQGFSALEPLVDLPIGINITRFQTLLALHRSYLTPGDSSSGWTAGAAAYYVGYLQPRTFLLKYNENGTITDAVDCALDPLSETKCTLKSFTVEKGIYQTSNFRVQPTESIVRFPNITNLCPFGEVFNATRFASVYAWNRKRISNCVADYSVLYNSASFSTFKCYGVSPTKLNDLCFTNVYADSFVIRGDEVRQIAPGQTGKIADYNYKLPDDFTGCVIAWNSNNLDSKVGGNYNYLYRLFRKSNLKPFERDISTEIYQAGSTPCNGVEGFNCYFPLQSYGFQPTNGVGYQPYRVVVLSFELLHAPATVCGPKKSTNLVKNKCVNFNFNGLTGTGVLTESNKKFLPFQQFGRDIADTTDAVRDPQTLEILDITPCSFGGVSVITPGTNTSNQVAVLYQDVNCTEVPVAIHADQLTPTWRVYSTGSNVFQTRAGCLIGAEHVNNSYECDIPIGAGICASYQTQTNSPRRARSVASQSIIAYTMSLGAENSVAYSNNSIAIPTNFTISVTTEILPVSMTKTSVDCTMYICGDSTECSNLLLQYGSFCTQLNRALTGIAVEQDKNTQEVFAQVKQIYKTPPIKDFGGFNFSQILPDPSKPSKRSFIEDLLFNKVTLADAGFIKQYGDCLGDIAARDLICAQKFNGLTVLPPLLTDEMIAQYTSALLAGTITSGWTFGAGAALQIPFAMQMAYRFNGIGVTQNVLYENQKLIANQFNSAIGKIQDSLSSTASALGKLQDVVNQNAQALNTLVKQLSSNFGAISSVLNDILSRLDKVEAEVQIDRLITGRLQSLQTYVTQQLIRAAEIRASANLAATKMSECVLGQSKRVDFCGKGYHLMSFPQSAPHGVVFLHVTYVPAQEKNFTTAPAICHDGKAHFPREGVFVSNGTHWFVTQRNFYEPQIITTDNTFVSGNCDVVIGIVNNTVYDPLQPELDSFKEELDKYFKNHTSPDVDLGDISGINASVVNIQKEIDRLNEVAKNLNESLIDLQELGKYEQYIKWPWYIWLGFIAGLIAIVMVTIMLCCMTSCCSCLKGCCSCGSCCKFDEDDSEPVLKGVKLHYT'"
            ]
          },
          "execution_count": 7,
          "metadata": {},
          "output_type": "execute_result"
        }
      ]
    },
    {
      "cell_type": "code",
      "metadata": {
        "id": "RLIg-q7fdgfQ"
      },
      "source": [
        ""
      ],
      "execution_count": null,
      "outputs": []
    },
    {
      "cell_type": "code",
      "metadata": {
        "id": "7ZOgCI0LB1-M"
      },
      "source": [
        "#Biostruct map initalisation\n",
        "def biostructmap_analysis(pdb_structure, gene_name, input_data, ref_sequence, output_filename):\n",
        "    structure = biostructmap.Structure(pdb_structure, gene_name)\n",
        "\n",
        "    data = {'B': input_data, \n",
        "            'C': input_data, \n",
        "            'D': input_data\n",
        "            }\n",
        " \n",
        "    ref_seqs = {'B': ref_sequence,\n",
        "                'C': ref_sequence,\n",
        "                'D': ref_sequence\n",
        "                }\n",
        "    results = structure.map(data, method='default', ref=ref_seqs, radius=15, rsa_range=(0.2, 1.0))\n",
        "    return results  # Note we are now returning the results object as well as saving data to a file. "
      ],
      "execution_count": 5,
      "outputs": []
    },
    {
      "cell_type": "code",
      "metadata": {
        "id": "rrCw8vp7H5Z3"
      },
      "source": [
        "mapped_diversity_data = biostructmap_analysis('S-prot.pdb', 'spike_protein', s_protein_data, ref_seq, '19biostructmap_diversity_jun_2021.pdb')"
      ],
      "execution_count": null,
      "outputs": []
    },
    {
      "cell_type": "code",
      "metadata": {
        "id": "UuvqPIsldh2R"
      },
      "source": [
        "# Get data for a particular residue:\n",
        "chain_of_interest = 'B'\n",
        "residue_id_of_interest = 25\n",
        "\n",
        "# Need to use Biopython's slightly odd residue identifier syntax.\n",
        "residue_of_interest = (chain_of_interest, (' ', residue_id_of_interest, ' '))\n",
        "mapped_diversity_data[residue_of_interest]"
      ],
      "execution_count": null,
      "outputs": []
    },
    {
      "cell_type": "code",
      "metadata": {
        "id": "WsYXk_4mdh2R"
      },
      "source": [
        "# How you might go about getting data out for all months:\n",
        "\n",
        "month_data_files = ['month1.tsv', 'month2.tsv', 'month3.tsv'] # just an example\n",
        "month_biostructmap_data = []\n",
        "\n",
        "# Simply looping over all month files, performing analysis, saving results in a list.\n",
        "for month_data in month_data_files:\n",
        "    month_file_prefix = month_data.replace('.tsv', '')\n",
        "    s_protein_data = nextstrain_data_processing(month_data, 1273, 'S')\n",
        "    mapped_diversity_data = biostructmap_analysis('S-prot.pdb', 'spike_protein', s_protein_data, ref_seq, f\"{month_file_prefix}_biostructmap.pdb\")\n",
        "    month_biostructmap_data.append(mapped_diversity_data)\n",
        "\n",
        "\n",
        "\n",
        "\n",
        "\n",
        "# And now you can plot this using the `data_for_residue` list as your y values, and the months as your x values."
      ],
      "execution_count": null,
      "outputs": []
    },
    {
      "cell_type": "code",
      "metadata": {
        "id": "5u7I9pETdh2S"
      },
      "source": [
        "# And this is how you might go about getting data out for a particular residue across all months\n",
        "# Get data for a particular residue:\n",
        "chain_of_interest = 'B'\n",
        "residue_id_of_interest = 144\n",
        "\n",
        "# Need to use Biopython's slightly odd residue identifier syntax.\n",
        "residue_of_interest = (chain_of_interest, (' ', residue_id_of_interest, ' '))\n",
        "data_for_residue = [x[residue_of_interest] for x in month_biostructmap_data]"
      ],
      "execution_count": null,
      "outputs": []
    },
    {
      "cell_type": "code",
      "metadata": {
        "id": "rGtpwJMEdh2S"
      },
      "source": [
        "# Example of how you could pull out values across all months to then calculate stats on:\n",
        "import numpy as np\n",
        "residue_div_values_per_month = []\n",
        "chain_of_interest = 'B' #Only calculate on a single chain\n",
        "\n",
        "for single_month_data in month_biostructmap_data:\n",
        "    diversity_values = [value for key, value in single_month_data.items() if key[0] == chain_of_interest]\n",
        "    residue_div_values_per_month.append(diversity_values)\n",
        "\n",
        "month_array = np.array(residue_div_values_per_month, dtype=float)\n",
        "\n",
        "month_array = month_array[:, ~np.isnan(month_array).any(axis=0)]"
      ],
      "execution_count": null,
      "outputs": []
    },
    {
      "cell_type": "code",
      "metadata": {
        "id": "R865Dgk5dh2T",
        "outputId": "658b65e2-ca35-4f7f-bfca-5123b37e4407"
      },
      "source": [
        "month_array.shape"
      ],
      "execution_count": null,
      "outputs": [
        {
          "data": {
            "text/plain": [
              "(3, 529)"
            ]
          },
          "execution_count": 47,
          "metadata": {},
          "output_type": "execute_result"
        }
      ]
    },
    {
      "cell_type": "code",
      "metadata": {
        "id": "M4lJ3eJ9dh2T"
      },
      "source": [
        "from scipy.stats import wilcoxon\n",
        "\n",
        "n_months = month_array.shape[0]\n",
        "p_array = np.zeros((n_months, n_months))\n",
        "\n",
        "for i in range(n_months):\n",
        "    for j in range(n_months):\n",
        "        if i != j:\n",
        "            stat, p = wilcoxon(month_array[i], month_array[j])\n",
        "            p_array[i][j] = p\n",
        "        else:\n",
        "            p_array[i][j] = 1.0\n"
      ],
      "execution_count": null,
      "outputs": []
    },
    {
      "cell_type": "code",
      "metadata": {
        "id": "gMpOU6vLdh2T",
        "outputId": "8f016880-c013-4170-8485-b59c448c300d"
      },
      "source": [
        "import matplotlib.pyplot as plt\n",
        "\n",
        "months = ['Jan', 'Feb', 'Mar']\n",
        "import seaborn as sns; sns.set_theme()\n",
        "from matplotlib.colors import LogNorm\n",
        "\n",
        "\n",
        "sns.heatmap(p_array, norm=LogNorm(), xticklabels=months, yticklabels=months)\n"
      ],
      "execution_count": null,
      "outputs": [
        {
          "data": {
            "text/plain": [
              "<AxesSubplot:>"
            ]
          },
          "execution_count": 67,
          "metadata": {},
          "output_type": "execute_result"
        },
        {
          "data": {
            "image/png": "[encoded data removed]",
            "text/plain": [
              "<Figure size 432x288 with 2 Axes>"
            ]
          },
          "metadata": {},
          "output_type": "display_data"
        }
      ]
    },
    {
      "cell_type": "code",
      "metadata": {
        "id": "oQ5WD6tbdh2T",
        "outputId": "f56d338f-a292-44b5-b5a0-976ee64e278c"
      },
      "source": [
        "pd.DataFrame({month: list(month_array[i]) for i, month in enumerate(months)})"
      ],
      "execution_count": null,
      "outputs": [
        {
          "data": {
            "text/html": [
              "<div>\n",
              "<style scoped>\n",
              "    .dataframe tbody tr th:only-of-type {\n",
              "        vertical-align: middle;\n",
              "    }\n",
              "\n",
              "    .dataframe tbody tr th {\n",
              "        vertical-align: top;\n",
              "    }\n",
              "\n",
              "    .dataframe thead th {\n",
              "        text-align: right;\n",
              "    }\n",
              "</style>\n",
              "<table border=\"1\" class=\"dataframe\">\n",
              "  <thead>\n",
              "    <tr style=\"text-align: right;\">\n",
              "      <th></th>\n",
              "      <th>Jan</th>\n",
              "      <th>Feb</th>\n",
              "      <th>Mar</th>\n",
              "    </tr>\n",
              "  </thead>\n",
              "  <tbody>\n",
              "    <tr>\n",
              "      <th>0</th>\n",
              "      <td>0.001563</td>\n",
              "      <td>0.054594</td>\n",
              "      <td>0.006250</td>\n",
              "    </tr>\n",
              "    <tr>\n",
              "      <th>1</th>\n",
              "      <td>0.001667</td>\n",
              "      <td>0.054300</td>\n",
              "      <td>0.006667</td>\n",
              "    </tr>\n",
              "    <tr>\n",
              "      <th>2</th>\n",
              "      <td>0.000000</td>\n",
              "      <td>0.106000</td>\n",
              "      <td>0.006667</td>\n",
              "    </tr>\n",
              "    <tr>\n",
              "      <th>3</th>\n",
              "      <td>0.000000</td>\n",
              "      <td>0.106286</td>\n",
              "      <td>0.007143</td>\n",
              "    </tr>\n",
              "    <tr>\n",
              "      <th>4</th>\n",
              "      <td>0.000000</td>\n",
              "      <td>0.115957</td>\n",
              "      <td>0.008696</td>\n",
              "    </tr>\n",
              "    <tr>\n",
              "      <th>...</th>\n",
              "      <td>...</td>\n",
              "      <td>...</td>\n",
              "      <td>...</td>\n",
              "    </tr>\n",
              "    <tr>\n",
              "      <th>524</th>\n",
              "      <td>0.000000</td>\n",
              "      <td>0.035610</td>\n",
              "      <td>0.000000</td>\n",
              "    </tr>\n",
              "    <tr>\n",
              "      <th>525</th>\n",
              "      <td>0.000000</td>\n",
              "      <td>0.035429</td>\n",
              "      <td>0.000000</td>\n",
              "    </tr>\n",
              "    <tr>\n",
              "      <th>526</th>\n",
              "      <td>0.000000</td>\n",
              "      <td>0.042941</td>\n",
              "      <td>0.000000</td>\n",
              "    </tr>\n",
              "    <tr>\n",
              "      <th>527</th>\n",
              "      <td>0.000000</td>\n",
              "      <td>0.001923</td>\n",
              "      <td>0.000000</td>\n",
              "    </tr>\n",
              "    <tr>\n",
              "      <th>528</th>\n",
              "      <td>0.000000</td>\n",
              "      <td>0.026517</td>\n",
              "      <td>0.000000</td>\n",
              "    </tr>\n",
              "  </tbody>\n",
              "</table>\n",
              "<p>529 rows × 3 columns</p>\n",
              "</div>"
            ],
            "text/plain": [
              "          Jan       Feb       Mar\n",
              "0    0.001563  0.054594  0.006250\n",
              "1    0.001667  0.054300  0.006667\n",
              "2    0.000000  0.106000  0.006667\n",
              "3    0.000000  0.106286  0.007143\n",
              "4    0.000000  0.115957  0.008696\n",
              "..        ...       ...       ...\n",
              "524  0.000000  0.035610  0.000000\n",
              "525  0.000000  0.035429  0.000000\n",
              "526  0.000000  0.042941  0.000000\n",
              "527  0.000000  0.001923  0.000000\n",
              "528  0.000000  0.026517  0.000000\n",
              "\n",
              "[529 rows x 3 columns]"
            ]
          },
          "execution_count": 77,
          "metadata": {},
          "output_type": "execute_result"
        }
      ]
    },
    {
      "cell_type": "code",
      "metadata": {
        "id": "4h-8FiH8dh2U",
        "outputId": "01deaf43-2e93-4be0-a5a9-3743a78e20b8"
      },
      "source": [
        "df = pd.DataFrame({month: list(month_array[i]) for i, month in enumerate(months)})\n",
        "sns.violinplot(data=df)"
      ],
      "execution_count": null,
      "outputs": [
        {
          "data": {
            "text/plain": [
              "<AxesSubplot:>"
            ]
          },
          "execution_count": 80,
          "metadata": {},
          "output_type": "execute_result"
        },
        {
          "data": {
            "image/png": "[encoded data removed]",
            "text/plain": [
              "<Figure size 432x288 with 1 Axes>"
            ]
          },
          "metadata": {},
          "output_type": "display_data"
        }
      ]
    },
    {
      "cell_type": "code",
      "metadata": {
        "id": "la8gkz5Gdh2U"
      },
      "source": [
        ""
      ],
      "execution_count": null,
      "outputs": []
    }
  ]
}