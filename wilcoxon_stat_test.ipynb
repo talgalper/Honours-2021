{
  "nbformat": 4,
  "nbformat_minor": 0,
  "metadata": {
    "colab": {
      "name": "wilcoxon_stat_test.ipynb",
      "provenance": [],
      "collapsed_sections": [],
      "include_colab_link": true
    },
    "interpreter": {
      "hash": "7873a835a5847783f84090c450632e03dbcdbaf3d06a0d48caf2ddd772820c87"
    },
    "kernelspec": {
      "display_name": "Python 3.6.13 64-bit ('biostructmap': conda)",
      "name": "python3"
    },
    "language_info": {
      "codemirror_mode": {
        "name": "ipython",
        "version": 3
      },
      "file_extension": ".py",
      "mimetype": "text/x-python",
      "name": "python",
      "nbconvert_exporter": "python",
      "pygments_lexer": "ipython3",
      "version": "3.6.13"
    }
  },
  "cells": [
    {
      "cell_type": "markdown",
      "metadata": {
        "id": "view-in-github",
        "colab_type": "text"
      },
      "source": [
        "<a href=\"https://colab.research.google.com/github/talgalper/Honours-2021/blob/main/wilcoxon_stat_test.ipynb\" target=\"_parent\"><img src=\"https://colab.research.google.com/assets/colab-badge.svg\" alt=\"Open In Colab\"/></a>"
      ]
    },
    {
      "cell_type": "code",
      "metadata": {
        "id": "UkJ9lNslBPSk"
      },
      "source": [
        "!apt-get install ncbi-blast+\n",
        "!apt-get install exonerate\n",
        "!apt-get install dssp\n",
        "!pip install biostructmap"
      ],
      "execution_count": null,
      "outputs": []
    },
    {
      "cell_type": "code",
      "metadata": {
        "id": "y7HFGBtTCMNT"
      },
      "source": [
        "import pandas as pd\n",
        "from collections import defaultdict\n",
        "import biostructmap\n",
        "import seaborn as sns; sns.set_theme()\n",
        "from matplotlib.colors import LogNorm\n",
        "import matplotlib.pyplot as plt"
      ],
      "execution_count": null,
      "outputs": []
    },
    {
      "cell_type": "code",
      "metadata": {
        "id": "rN-4DHpAGLg1"
      },
      "source": [
        "from google.colab import drive\n",
        "drive.mount('/content/drive')"
      ],
      "execution_count": null,
      "outputs": []
    },
    {
      "cell_type": "code",
      "metadata": {
        "id": "OakCfq3vBGYD"
      },
      "source": [
        "#read in data file and file in gaps with 0 values\n",
        "def nextstrain_data_processing(filename, seq_len, gene_id):\n",
        "    ns_data = pd.read_csv(filename, sep='\\t')\n",
        "\n",
        "    s_gene_data = ns_data[ns_data.gene == gene_id]\n",
        "\n",
        "    pos = s_gene_data.position\n",
        "\n",
        "    entropy = s_gene_data.entropy\n",
        "\n",
        "    pos_to_entropy = defaultdict(float, zip(pos, entropy))\n",
        "\n",
        "    len_of_ref_seq = seq_len\n",
        "\n",
        "    list_of_values = [pos_to_entropy[i+1] for i in range(len_of_ref_seq)]\n",
        "    return list_of_values"
      ],
      "execution_count": 4,
      "outputs": []
    },
    {
      "cell_type": "code",
      "metadata": {
        "id": "mcTRM_sd_mxW"
      },
      "source": [
        ""
      ],
      "execution_count": 4,
      "outputs": []
    },
    {
      "cell_type": "code",
      "metadata": {
        "id": "nZc9mYBo8QIY"
      },
      "source": [
        "#removes fasta file header\n",
        "def ref_seq_fasta_format(fasta_filename):\n",
        "    with open(fasta_filename) as f:\n",
        "        seq_lines = f.readlines()\n",
        "    \n",
        "    formatted_seq_lines = seq_lines[1:]\n",
        "    \n",
        "    new_list_lines_removed = list(map(str.strip, formatted_seq_lines)) \n",
        "    complete_format = ''.join(new_list_lines_removed)\n",
        "    return complete_format"
      ],
      "execution_count": 5,
      "outputs": []
    },
    {
      "cell_type": "code",
      "metadata": {
        "id": "KdpnlxvGUN_L"
      },
      "source": [
        "ref_seq = ref_seq_fasta_format('/content/drive/MyDrive/Honours/Reference_Sequence/sars_cov_2_spike_ref_seq.fasta')"
      ],
      "execution_count": 6,
      "outputs": []
    },
    {
      "cell_type": "code",
      "metadata": {
        "id": "ZSvP83j5Cbzf"
      },
      "source": [
        "#check\n",
        "ref_seq"
      ],
      "execution_count": null,
      "outputs": []
    },
    {
      "cell_type": "code",
      "metadata": {
        "id": "RLIg-q7fdgfQ"
      },
      "source": [
        ""
      ],
      "execution_count": 7,
      "outputs": []
    },
    {
      "cell_type": "code",
      "metadata": {
        "id": "7ZOgCI0LB1-M"
      },
      "source": [
        "#Biostruct map initalisation\n",
        "def biostructmap_analysis(pdb_structure, gene_name, input_data, ref_sequence, output_filename):\n",
        "    structure = biostructmap.Structure(pdb_structure, gene_name)\n",
        "\n",
        "    data = {'A': input_data, \n",
        "            'B': input_data, \n",
        "            'C': input_data\n",
        "            }\n",
        " \n",
        "    ref_seqs = {'A': ref_sequence,\n",
        "                'B': ref_sequence,\n",
        "                'C': ref_sequence\n",
        "                }\n",
        "    results = structure.map(data, method='default', ref=ref_seqs, radius=15, rsa_range=(0.2, 1.0))\n",
        "    return results  # Note we are now returning the results object as well as saving data to a file. "
      ],
      "execution_count": 8,
      "outputs": []
    },
    {
      "cell_type": "code",
      "metadata": {
        "id": "rrCw8vp7H5Z3"
      },
      "source": [
        ""
      ],
      "execution_count": 8,
      "outputs": []
    },
    {
      "cell_type": "code",
      "metadata": {
        "id": "UuvqPIsldh2R"
      },
      "source": [
        "# Get data for a particular residue:\n",
        "chain_of_interest = 'A'\n",
        "residue_id_of_interest = 25\n",
        "\n",
        "# Need to use Biopython's slightly odd residue identifier syntax.\n",
        "residue_of_interest = (chain_of_interest, (' ', residue_id_of_interest, ' '))\n",
        "mapped_diversity_data[residue_of_interest]"
      ],
      "execution_count": null,
      "outputs": []
    },
    {
      "cell_type": "code",
      "metadata": {
        "id": "g3G-bZk3QIA7"
      },
      "source": [
        ""
      ],
      "execution_count": null,
      "outputs": []
    },
    {
      "cell_type": "code",
      "metadata": {
        "id": "ZVlIX4fSQIDu"
      },
      "source": [
        ""
      ],
      "execution_count": null,
      "outputs": []
    },
    {
      "cell_type": "code",
      "metadata": {
        "id": "WsYXk_4mdh2R"
      },
      "source": [
        "# How you might go about getting data out for all months:\n",
        "\n",
        "month_data_files = ['/content/drive/MyDrive/Honours/Monthly NextStrain data/02nextstrain_ncov_global_diversity_Jan_2020.tsv', \n",
        "                    '/content/drive/MyDrive/Honours/Monthly NextStrain data/03nextstrain_ncov_global_diversity_Feb_2020.tsv', \n",
        "                    '/content/drive/MyDrive/Honours/Monthly NextStrain data/04nextstrain_ncov_global_diversity_Mar_2020.tsv',\n",
        "                    '/content/drive/MyDrive/Honours/Monthly NextStrain data/05nextstrain_ncov_global_diversity_Apr_2020.tsv',\n",
        "                    '/content/drive/MyDrive/Honours/Monthly NextStrain data/06nextstrain_ncov_global_diversity_May_2020.tsv',\n",
        "                    '/content/drive/MyDrive/Honours/Monthly NextStrain data/07nextstrain_ncov_global_diversity_Jun_2020.tsv',\n",
        "                    '/content/drive/MyDrive/Honours/Monthly NextStrain data/08nextstrain_ncov_global_diversity_Jul_2020.tsv',\n",
        "                    '/content/drive/MyDrive/Honours/Monthly NextStrain data/09nextstrain_ncov_global_diversity_Aug_2020.tsv',\n",
        "                    '/content/drive/MyDrive/Honours/Monthly NextStrain data/10nextstrain_ncov_global_diversity_Sep_2020.tsv',\n",
        "                    '/content/drive/MyDrive/Honours/Monthly NextStrain data/11nextstrain_ncov_global_diversity_Oct_2020.tsv',\n",
        "                    '/content/drive/MyDrive/Honours/Monthly NextStrain data/12nextstrain_ncov_global_diversity_Nov_2020.tsv',\n",
        "                    '/content/drive/MyDrive/Honours/Monthly NextStrain data/13nextstrain_ncov_global_diversity_Dec_2020.tsv',\n",
        "                    '/content/drive/MyDrive/Honours/Monthly NextStrain data/14nextstrain_ncov_global_diversity_Jan_2021.tsv',\n",
        "                    '/content/drive/MyDrive/Honours/Monthly NextStrain data/15nextstrain_ncov_global_diversity_Feb_2021.tsv',\n",
        "                    '/content/drive/MyDrive/Honours/Monthly NextStrain data/16nextstrain_ncov_global_diversity_Mar_2021.tsv',\n",
        "                    '/content/drive/MyDrive/Honours/Monthly NextStrain data/17nextstrain_ncov_global_diversity_Apr_2021.tsv',\n",
        "                    '/content/drive/MyDrive/Honours/Monthly NextStrain data/18nextstrain_ncov_global_diversity_May_2021.tsv',\n",
        "                    '/content/drive/MyDrive/Honours/Monthly NextStrain data/19nextstrain_ncov_global_diversity_Jun_2021.tsv',\n",
        "                    '/content/drive/MyDrive/Honours/Monthly NextStrain data/20nextstrain_ncov_global_diversity_Jul_2021.tsv',\n",
        "                    '/content/drive/MyDrive/Honours/Monthly NextStrain data/21nextstrain_ncov_global_diversity_Aug_2021.tsv']\n",
        "month_biostructmap_data = []\n",
        "\n",
        "# Simply looping over all month files, performing analysis, saving results in a list.\n",
        "for month_data in month_data_files:\n",
        "    month_file_prefix = month_data.replace('.tsv', '')\n",
        "    s_protein_data = nextstrain_data_processing(month_data, 1273, 'S')\n",
        "    mapped_diversity_data = biostructmap_analysis('/content/drive/MyDrive/Honours/Reference_Sequence/spike_swiss_model.pdb', 'spike_protein', s_protein_data, ref_seq, f\"{month_file_prefix}_biostructmap.pdb\")\n",
        "    month_biostructmap_data.append(mapped_diversity_data)\n",
        "\n",
        "\n",
        "\n",
        "# And now you can plot this using the `data_for_residue` list as your y values, and the months as your x values."
      ],
      "execution_count": 10,
      "outputs": []
    },
    {
      "cell_type": "code",
      "metadata": {
        "id": "YeuaEGhDWp72",
        "outputId": "c47b6533-2032-4f6a-c5e1-baf978e2a2d7",
        "colab": {
          "base_uri": "https://localhost:8080/"
        }
      },
      "source": [
        "print(month_file_prefix)"
      ],
      "execution_count": 11,
      "outputs": [
        {
          "output_type": "stream",
          "name": "stdout",
          "text": [
            "/content/drive/MyDrive/Honours/Monthly NextStrain data/21nextstrain_ncov_global_diversity_Aug_2021\n"
          ]
        }
      ]
    },
    {
      "cell_type": "code",
      "metadata": {
        "id": "5u7I9pETdh2S"
      },
      "source": [
        "# And this is how you might go about getting data out for a particular residue across all months\n",
        "# Get data for a particular residue:\n",
        "chain_of_interest = 'B'\n",
        "residue_id_of_interest = 144\n",
        "\n",
        "# Need to use Biopython's slightly odd residue identifier syntax.\n",
        "residue_of_interest = (chain_of_interest, (' ', residue_id_of_interest, ' '))\n",
        "data_for_residue = [x[residue_of_interest] for x in month_biostructmap_data]"
      ],
      "execution_count": 12,
      "outputs": []
    },
    {
      "cell_type": "code",
      "metadata": {
        "id": "rGtpwJMEdh2S"
      },
      "source": [
        "# Example of how you could pull out values across all months to then calculate stats on:\n",
        "import numpy as np\n",
        "residue_div_values_per_month = []\n",
        "chain_of_interest = 'B' #Only calculate on a single chain\n",
        "\n",
        "for single_month_data in month_biostructmap_data:\n",
        "    diversity_values = [value for key, value in single_month_data.items() if key[0] == chain_of_interest]\n",
        "    residue_div_values_per_month.append(diversity_values)\n",
        "\n",
        "month_array = np.array(residue_div_values_per_month, dtype=float)\n",
        "\n",
        "month_array = month_array[:, ~np.isnan(month_array).any(axis=0)]"
      ],
      "execution_count": 13,
      "outputs": []
    },
    {
      "cell_type": "code",
      "metadata": {
        "id": "R865Dgk5dh2T",
        "colab": {
          "base_uri": "https://localhost:8080/"
        },
        "outputId": "8aa9199d-0d76-4151-d6cf-fe83dd01b2ff"
      },
      "source": [
        "month_array.shape"
      ],
      "execution_count": 14,
      "outputs": [
        {
          "output_type": "execute_result",
          "data": {
            "text/plain": [
              "(20, 508)"
            ]
          },
          "metadata": {},
          "execution_count": 14
        }
      ]
    },
    {
      "cell_type": "code",
      "metadata": {
        "id": "M4lJ3eJ9dh2T"
      },
      "source": [
        "from scipy.stats import wilcoxon\n",
        "\n",
        "n_months = month_array.shape[0]\n",
        "p_array = np.zeros((n_months, n_months))\n",
        "\n",
        "for i in range(n_months):\n",
        "    for j in range(n_months):\n",
        "        if i != j:\n",
        "            stat, p = wilcoxon(month_array[i], month_array[j])\n",
        "            p_array[i][j] = p\n",
        "        else:\n",
        "            p_array[i][j] = 1.0\n"
      ],
      "execution_count": 15,
      "outputs": []
    },
    {
      "cell_type": "code",
      "metadata": {
        "id": "gMpOU6vLdh2T",
        "colab": {
          "base_uri": "https://localhost:8080/",
          "height": 644
        },
        "outputId": "2c5647c0-ab02-460d-da74-11f7987176d8"
      },
      "source": [
        "f, ax = plt.subplots(figsize=(12, 10))\n",
        "sns.set(font_scale = 1.5)\n",
        "months = ['Jan 20', 'Feb 20', 'Mar 20','Apr 20','May 20','Jun 20', 'Jul 20', 'Aug 20', 'Sep 20', 'Oct 20', 'Nov 20', 'Dec 20', 'Jan 21', 'Feb 21', 'Mar 21','Apr 21','May 21','Jun 21', 'Jul 21', 'Aug 21']\n",
        "\n",
        "heatmap = sns.heatmap(p_array, norm=LogNorm(), xticklabels=months, yticklabels=months)\n",
        "\n",
        "fig = heatmap.get_figure()\n",
        "fig.savefig('Wilcoxon matrix', format='svg')"
      ],
      "execution_count": 31,
      "outputs": [
        {
          "output_type": "display_data",
          "data": {
            "image/png": "[encoded data removed]",
            "text/plain": [
              "<Figure size 864x720 with 2 Axes>"
            ]
          },
          "metadata": {}
        }
      ]
    },
    {
      "cell_type": "code",
      "metadata": {
        "id": "oQ5WD6tbdh2T",
        "outputId": "bf83388b-37a2-4220-b515-4d8f895b9acc",
        "colab": {
          "base_uri": "https://localhost:8080/",
          "height": 419
        }
      },
      "source": [
        "pd.DataFrame({month: list(month_array[i]) for i, month in enumerate(months)})\n"
      ],
      "execution_count": 32,
      "outputs": [
        {
          "output_type": "execute_result",
          "data": {
            "text/html": [
              "<div>\n",
              "<style scoped>\n",
              "    .dataframe tbody tr th:only-of-type {\n",
              "        vertical-align: middle;\n",
              "    }\n",
              "\n",
              "    .dataframe tbody tr th {\n",
              "        vertical-align: top;\n",
              "    }\n",
              "\n",
              "    .dataframe thead th {\n",
              "        text-align: right;\n",
              "    }\n",
              "</style>\n",
              "<table border=\"1\" class=\"dataframe\">\n",
              "  <thead>\n",
              "    <tr style=\"text-align: right;\">\n",
              "      <th></th>\n",
              "      <th>Jan 20</th>\n",
              "      <th>Feb 20</th>\n",
              "      <th>Mar 20</th>\n",
              "      <th>Apr 20</th>\n",
              "      <th>May 20</th>\n",
              "      <th>Jun 20</th>\n",
              "      <th>Jul 20</th>\n",
              "      <th>Aug 20</th>\n",
              "      <th>Sep 20</th>\n",
              "      <th>Oct 20</th>\n",
              "      <th>Nov 20</th>\n",
              "      <th>Dec 20</th>\n",
              "      <th>Jan 21</th>\n",
              "      <th>Feb 21</th>\n",
              "      <th>Mar 21</th>\n",
              "      <th>Apr 21</th>\n",
              "      <th>May 21</th>\n",
              "      <th>Jun 21</th>\n",
              "      <th>Jul 21</th>\n",
              "      <th>Aug 21</th>\n",
              "    </tr>\n",
              "  </thead>\n",
              "  <tbody>\n",
              "    <tr>\n",
              "      <th>0</th>\n",
              "      <td>0.0</td>\n",
              "      <td>0.003821</td>\n",
              "      <td>0.0</td>\n",
              "      <td>0.001786</td>\n",
              "      <td>0.0</td>\n",
              "      <td>0.005893</td>\n",
              "      <td>0.005571</td>\n",
              "      <td>0.005250</td>\n",
              "      <td>0.010750</td>\n",
              "      <td>0.006071</td>\n",
              "      <td>0.004929</td>\n",
              "      <td>0.015250</td>\n",
              "      <td>0.025679</td>\n",
              "      <td>0.034429</td>\n",
              "      <td>0.042821</td>\n",
              "      <td>0.058393</td>\n",
              "      <td>0.075750</td>\n",
              "      <td>0.109857</td>\n",
              "      <td>0.075107</td>\n",
              "      <td>0.068750</td>\n",
              "    </tr>\n",
              "    <tr>\n",
              "      <th>1</th>\n",
              "      <td>0.0</td>\n",
              "      <td>0.003690</td>\n",
              "      <td>0.0</td>\n",
              "      <td>0.001724</td>\n",
              "      <td>0.0</td>\n",
              "      <td>0.005690</td>\n",
              "      <td>0.003586</td>\n",
              "      <td>0.006897</td>\n",
              "      <td>0.010379</td>\n",
              "      <td>0.008000</td>\n",
              "      <td>0.004759</td>\n",
              "      <td>0.013276</td>\n",
              "      <td>0.023310</td>\n",
              "      <td>0.028034</td>\n",
              "      <td>0.032069</td>\n",
              "      <td>0.048724</td>\n",
              "      <td>0.062310</td>\n",
              "      <td>0.099517</td>\n",
              "      <td>0.066172</td>\n",
              "      <td>0.060690</td>\n",
              "    </tr>\n",
              "    <tr>\n",
              "      <th>2</th>\n",
              "      <td>0.0</td>\n",
              "      <td>0.003690</td>\n",
              "      <td>0.0</td>\n",
              "      <td>0.001724</td>\n",
              "      <td>0.0</td>\n",
              "      <td>0.005690</td>\n",
              "      <td>0.005379</td>\n",
              "      <td>0.006897</td>\n",
              "      <td>0.010379</td>\n",
              "      <td>0.008000</td>\n",
              "      <td>0.004759</td>\n",
              "      <td>0.014724</td>\n",
              "      <td>0.026241</td>\n",
              "      <td>0.036586</td>\n",
              "      <td>0.047379</td>\n",
              "      <td>0.057034</td>\n",
              "      <td>0.073724</td>\n",
              "      <td>0.106241</td>\n",
              "      <td>0.078483</td>\n",
              "      <td>0.072069</td>\n",
              "    </tr>\n",
              "    <tr>\n",
              "      <th>3</th>\n",
              "      <td>0.0</td>\n",
              "      <td>0.003344</td>\n",
              "      <td>0.0</td>\n",
              "      <td>0.001563</td>\n",
              "      <td>0.0</td>\n",
              "      <td>0.005156</td>\n",
              "      <td>0.006500</td>\n",
              "      <td>0.006250</td>\n",
              "      <td>0.009406</td>\n",
              "      <td>0.007250</td>\n",
              "      <td>0.004313</td>\n",
              "      <td>0.013344</td>\n",
              "      <td>0.023781</td>\n",
              "      <td>0.032500</td>\n",
              "      <td>0.042313</td>\n",
              "      <td>0.049844</td>\n",
              "      <td>0.063438</td>\n",
              "      <td>0.092844</td>\n",
              "      <td>0.068281</td>\n",
              "      <td>0.063781</td>\n",
              "    </tr>\n",
              "    <tr>\n",
              "      <th>4</th>\n",
              "      <td>0.0</td>\n",
              "      <td>0.003690</td>\n",
              "      <td>0.0</td>\n",
              "      <td>0.001724</td>\n",
              "      <td>0.0</td>\n",
              "      <td>0.007586</td>\n",
              "      <td>0.007172</td>\n",
              "      <td>0.006897</td>\n",
              "      <td>0.016931</td>\n",
              "      <td>0.010138</td>\n",
              "      <td>0.017414</td>\n",
              "      <td>0.027897</td>\n",
              "      <td>0.052517</td>\n",
              "      <td>0.067655</td>\n",
              "      <td>0.085276</td>\n",
              "      <td>0.083000</td>\n",
              "      <td>0.095414</td>\n",
              "      <td>0.118621</td>\n",
              "      <td>0.076793</td>\n",
              "      <td>0.067310</td>\n",
              "    </tr>\n",
              "    <tr>\n",
              "      <th>...</th>\n",
              "      <td>...</td>\n",
              "      <td>...</td>\n",
              "      <td>...</td>\n",
              "      <td>...</td>\n",
              "      <td>...</td>\n",
              "      <td>...</td>\n",
              "      <td>...</td>\n",
              "      <td>...</td>\n",
              "      <td>...</td>\n",
              "      <td>...</td>\n",
              "      <td>...</td>\n",
              "      <td>...</td>\n",
              "      <td>...</td>\n",
              "      <td>...</td>\n",
              "      <td>...</td>\n",
              "      <td>...</td>\n",
              "      <td>...</td>\n",
              "      <td>...</td>\n",
              "      <td>...</td>\n",
              "      <td>...</td>\n",
              "    </tr>\n",
              "    <tr>\n",
              "      <th>503</th>\n",
              "      <td>0.0</td>\n",
              "      <td>0.000000</td>\n",
              "      <td>0.0</td>\n",
              "      <td>0.000000</td>\n",
              "      <td>0.0</td>\n",
              "      <td>0.004231</td>\n",
              "      <td>0.000000</td>\n",
              "      <td>0.000000</td>\n",
              "      <td>0.000000</td>\n",
              "      <td>0.000000</td>\n",
              "      <td>0.005769</td>\n",
              "      <td>0.009692</td>\n",
              "      <td>0.005577</td>\n",
              "      <td>0.007077</td>\n",
              "      <td>0.007154</td>\n",
              "      <td>0.006692</td>\n",
              "      <td>0.004962</td>\n",
              "      <td>0.001846</td>\n",
              "      <td>0.001154</td>\n",
              "      <td>0.005308</td>\n",
              "    </tr>\n",
              "    <tr>\n",
              "      <th>504</th>\n",
              "      <td>0.0</td>\n",
              "      <td>0.000000</td>\n",
              "      <td>0.0</td>\n",
              "      <td>0.000000</td>\n",
              "      <td>0.0</td>\n",
              "      <td>0.005500</td>\n",
              "      <td>0.000000</td>\n",
              "      <td>0.000000</td>\n",
              "      <td>0.000000</td>\n",
              "      <td>0.000000</td>\n",
              "      <td>0.005000</td>\n",
              "      <td>0.008400</td>\n",
              "      <td>0.005900</td>\n",
              "      <td>0.007300</td>\n",
              "      <td>0.006600</td>\n",
              "      <td>0.007300</td>\n",
              "      <td>0.005700</td>\n",
              "      <td>0.001600</td>\n",
              "      <td>0.001500</td>\n",
              "      <td>0.006900</td>\n",
              "    </tr>\n",
              "    <tr>\n",
              "      <th>505</th>\n",
              "      <td>0.0</td>\n",
              "      <td>0.000000</td>\n",
              "      <td>0.0</td>\n",
              "      <td>0.000000</td>\n",
              "      <td>0.0</td>\n",
              "      <td>0.006111</td>\n",
              "      <td>0.000000</td>\n",
              "      <td>0.000000</td>\n",
              "      <td>0.000000</td>\n",
              "      <td>0.000000</td>\n",
              "      <td>0.005556</td>\n",
              "      <td>0.009333</td>\n",
              "      <td>0.006556</td>\n",
              "      <td>0.008111</td>\n",
              "      <td>0.007333</td>\n",
              "      <td>0.008111</td>\n",
              "      <td>0.006333</td>\n",
              "      <td>0.001778</td>\n",
              "      <td>0.001667</td>\n",
              "      <td>0.007667</td>\n",
              "    </tr>\n",
              "    <tr>\n",
              "      <th>506</th>\n",
              "      <td>0.0</td>\n",
              "      <td>0.000000</td>\n",
              "      <td>0.0</td>\n",
              "      <td>0.000000</td>\n",
              "      <td>0.0</td>\n",
              "      <td>0.007174</td>\n",
              "      <td>0.000000</td>\n",
              "      <td>0.000000</td>\n",
              "      <td>0.000000</td>\n",
              "      <td>0.000000</td>\n",
              "      <td>0.006522</td>\n",
              "      <td>0.010957</td>\n",
              "      <td>0.006739</td>\n",
              "      <td>0.008478</td>\n",
              "      <td>0.008087</td>\n",
              "      <td>0.009522</td>\n",
              "      <td>0.007435</td>\n",
              "      <td>0.002087</td>\n",
              "      <td>0.001957</td>\n",
              "      <td>0.009000</td>\n",
              "    </tr>\n",
              "    <tr>\n",
              "      <th>507</th>\n",
              "      <td>0.0</td>\n",
              "      <td>0.000000</td>\n",
              "      <td>0.0</td>\n",
              "      <td>0.000000</td>\n",
              "      <td>0.0</td>\n",
              "      <td>0.007174</td>\n",
              "      <td>0.000000</td>\n",
              "      <td>0.000000</td>\n",
              "      <td>0.000000</td>\n",
              "      <td>0.000000</td>\n",
              "      <td>0.006522</td>\n",
              "      <td>0.010957</td>\n",
              "      <td>0.007217</td>\n",
              "      <td>0.009000</td>\n",
              "      <td>0.008087</td>\n",
              "      <td>0.009522</td>\n",
              "      <td>0.007435</td>\n",
              "      <td>0.002087</td>\n",
              "      <td>0.001957</td>\n",
              "      <td>0.009000</td>\n",
              "    </tr>\n",
              "  </tbody>\n",
              "</table>\n",
              "<p>508 rows × 20 columns</p>\n",
              "</div>"
            ],
            "text/plain": [
              "     Jan 20    Feb 20  Mar 20    Apr 20  ...    May 21    Jun 21    Jul 21    Aug 21\n",
              "0       0.0  0.003821     0.0  0.001786  ...  0.075750  0.109857  0.075107  0.068750\n",
              "1       0.0  0.003690     0.0  0.001724  ...  0.062310  0.099517  0.066172  0.060690\n",
              "2       0.0  0.003690     0.0  0.001724  ...  0.073724  0.106241  0.078483  0.072069\n",
              "3       0.0  0.003344     0.0  0.001563  ...  0.063438  0.092844  0.068281  0.063781\n",
              "4       0.0  0.003690     0.0  0.001724  ...  0.095414  0.118621  0.076793  0.067310\n",
              "..      ...       ...     ...       ...  ...       ...       ...       ...       ...\n",
              "503     0.0  0.000000     0.0  0.000000  ...  0.004962  0.001846  0.001154  0.005308\n",
              "504     0.0  0.000000     0.0  0.000000  ...  0.005700  0.001600  0.001500  0.006900\n",
              "505     0.0  0.000000     0.0  0.000000  ...  0.006333  0.001778  0.001667  0.007667\n",
              "506     0.0  0.000000     0.0  0.000000  ...  0.007435  0.002087  0.001957  0.009000\n",
              "507     0.0  0.000000     0.0  0.000000  ...  0.007435  0.002087  0.001957  0.009000\n",
              "\n",
              "[508 rows x 20 columns]"
            ]
          },
          "metadata": {},
          "execution_count": 32
        }
      ]
    },
    {
      "cell_type": "code",
      "metadata": {
        "id": "4h-8FiH8dh2U",
        "colab": {
          "base_uri": "https://localhost:8080/",
          "height": 639
        },
        "outputId": "406e2ac6-81e8-4759-8809-0669bdafda4d"
      },
      "source": [
        "df = pd.DataFrame({month: list(month_array[i]) for i, month in enumerate(months)})\n",
        "sns.set_style(\"white\")\n",
        "f, ax = plt.subplots(figsize=(15, 10))\n",
        "sns.set(font_scale = 1.5)\n",
        "sns.violinplot(data=df)\n",
        "ax.set_xticklabels(ax.get_xticklabels(),rotation = 45)\n",
        "\n",
        "plt.show()"
      ],
      "execution_count": 33,
      "outputs": [
        {
          "output_type": "display_data",
          "data": {
            "image/png": "[encoded data removed]",
            "text/plain": [
              "<Figure size 1080x720 with 1 Axes>"
            ]
          },
          "metadata": {}
        }
      ]
    },
    {
      "cell_type": "code",
      "metadata": {
        "id": "la8gkz5Gdh2U"
      },
      "source": [
        ""
      ],
      "execution_count": null,
      "outputs": []
    }
  ]
}