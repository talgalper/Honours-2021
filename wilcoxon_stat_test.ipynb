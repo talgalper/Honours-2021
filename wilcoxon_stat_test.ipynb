{
  "nbformat": 4,
  "nbformat_minor": 0,
  "metadata": {
    "colab": {
      "name": "wilcoxon_stat_test.ipynb",
      "provenance": [],
      "collapsed_sections": [],
      "include_colab_link": true
    },
    "interpreter": {
      "hash": "7873a835a5847783f84090c450632e03dbcdbaf3d06a0d48caf2ddd772820c87"
    },
    "kernelspec": {
      "display_name": "Python 3.6.13 64-bit ('biostructmap': conda)",
      "name": "python3"
    },
    "language_info": {
      "codemirror_mode": {
        "name": "ipython",
        "version": 3
      },
      "file_extension": ".py",
      "mimetype": "text/x-python",
      "name": "python",
      "nbconvert_exporter": "python",
      "pygments_lexer": "ipython3",
      "version": "3.6.13"
    }
  },
  "cells": [
    {
      "cell_type": "markdown",
      "metadata": {
        "id": "view-in-github",
        "colab_type": "text"
      },
      "source": [
        "<a href=\"https://colab.research.google.com/github/talgalper/Honours-2021/blob/main/wilcoxon_stat_test.ipynb\" target=\"_parent\"><img src=\"https://colab.research.google.com/assets/colab-badge.svg\" alt=\"Open In Colab\"/></a>"
      ]
    },
    {
      "cell_type": "code",
      "metadata": {
        "id": "UkJ9lNslBPSk"
      },
      "source": [
        "!apt-get install ncbi-blast+\n",
        "!apt-get install exonerate\n",
        "!apt-get install dssp\n",
        "!pip install biostructmap"
      ],
      "execution_count": null,
      "outputs": []
    },
    {
      "cell_type": "code",
      "metadata": {
        "id": "y7HFGBtTCMNT",
        "outputId": "f5d39ea0-a95f-4119-ae92-a232cf0aaf77",
        "colab": {
          "base_uri": "https://localhost:8080/"
        }
      },
      "source": [
        "import pandas as pd\n",
        "from collections import defaultdict\n",
        "import biostructmap"
      ],
      "execution_count": 2,
      "outputs": [
        {
          "output_type": "stream",
          "name": "stderr",
          "text": [
            "/usr/local/lib/python3.7/dist-packages/Bio/SubsMat/__init__.py:131: BiopythonDeprecationWarning: Bio.SubsMat has been deprecated, and we intend to remove it in a future release of Biopython. As an alternative, please consider using Bio.Align.substitution_matrices as a replacement, and contact the Biopython developers if you still need the Bio.SubsMat module.\n",
            "  BiopythonDeprecationWarning,\n"
          ]
        }
      ]
    },
    {
      "cell_type": "code",
      "metadata": {
        "id": "Pago0yySSzDs"
      },
      "source": [
        "from google.colab import drive\n",
        "drive.mount('/content/drive')"
      ],
      "execution_count": null,
      "outputs": []
    },
    {
      "cell_type": "code",
      "metadata": {
        "id": "OakCfq3vBGYD"
      },
      "source": [
        "#read in data file and file in gaps with 0 values\n",
        "def nextstrain_data_processing(filename, seq_len, gene_id):\n",
        "    ns_data = pd.read_csv(filename, sep='\\t')\n",
        "\n",
        "    s_gene_data = ns_data[ns_data.gene == gene_id]\n",
        "\n",
        "    pos = s_gene_data.position\n",
        "\n",
        "    entropy = s_gene_data.entropy\n",
        "\n",
        "    pos_to_entropy = defaultdict(float, zip(pos, entropy))\n",
        "\n",
        "    len_of_ref_seq = seq_len\n",
        "\n",
        "    list_of_values = [pos_to_entropy[i+1] for i in range(len_of_ref_seq)]\n",
        "    return list_of_values"
      ],
      "execution_count": 4,
      "outputs": []
    },
    {
      "cell_type": "code",
      "metadata": {
        "id": "mcTRM_sd_mxW"
      },
      "source": [
        "s_protein_data = nextstrain_data_processing('/content/drive/MyDrive/Honours/nextstrain_ncov_gisaid_global_diversity_Jan2020-Aug2021.tsv', 1273, 'S')"
      ],
      "execution_count": 5,
      "outputs": []
    },
    {
      "cell_type": "code",
      "metadata": {
        "id": "nZc9mYBo8QIY"
      },
      "source": [
        "#removes fasta file header\n",
        "def ref_seq_fasta_format(fasta_filename):\n",
        "    with open(fasta_filename) as f:\n",
        "        seq_lines = f.readlines()\n",
        "    \n",
        "    formatted_seq_lines = seq_lines[1:]\n",
        "    \n",
        "    new_list_lines_removed = list(map(str.strip, formatted_seq_lines)) \n",
        "    complete_format = ''.join(new_list_lines_removed)\n",
        "    return complete_format"
      ],
      "execution_count": 6,
      "outputs": []
    },
    {
      "cell_type": "code",
      "metadata": {
        "id": "KdpnlxvGUN_L"
      },
      "source": [
        "ref_seq = ref_seq_fasta_format('/content/drive/MyDrive/Honours/Reference_Sequence/sars_cov_2_spike_ref_seq.fasta')"
      ],
      "execution_count": 7,
      "outputs": []
    },
    {
      "cell_type": "code",
      "metadata": {
        "id": "ZSvP83j5Cbzf",
        "colab": {
          "base_uri": "https://localhost:8080/",
          "height": 120
        },
        "outputId": "89a22eca-9c0c-4f35-acc8-6132228f9181"
      },
      "source": [
        "#check\n",
        "ref_seq"
      ],
      "execution_count": 8,
      "outputs": [
        {
          "output_type": "execute_result",
          "data": {
            "application/vnd.google.colaboratory.intrinsic+json": {
              "type": "string"
            },
            "text/plain": [
              "'MFVFLVLLPLVSSQCVNLTTRTQLPPAYTNSFTRGVYYPDKVFRSSVLHSTQDLFLPFFSNVTWFHAIHVSGTNGTKRFDNPVLPFNDGVYFASTEKSNIIRGWIFGTTLDSKTQSLLIVNNATNVVIKVCEFQFCNDPFLGVYYHKNNKSWMESEFRVYSSANNCTFEYVSQPFLMDLEGKQGNFKNLREFVFKNIDGYFKIYSKHTPINLVRDLPQGFSALEPLVDLPIGINITRFQTLLALHRSYLTPGDSSSGWTAGAAAYYVGYLQPRTFLLKYNENGTITDAVDCALDPLSETKCTLKSFTVEKGIYQTSNFRVQPTESIVRFPNITNLCPFGEVFNATRFASVYAWNRKRISNCVADYSVLYNSASFSTFKCYGVSPTKLNDLCFTNVYADSFVIRGDEVRQIAPGQTGKIADYNYKLPDDFTGCVIAWNSNNLDSKVGGNYNYLYRLFRKSNLKPFERDISTEIYQAGSTPCNGVEGFNCYFPLQSYGFQPTNGVGYQPYRVVVLSFELLHAPATVCGPKKSTNLVKNKCVNFNFNGLTGTGVLTESNKKFLPFQQFGRDIADTTDAVRDPQTLEILDITPCSFGGVSVITPGTNTSNQVAVLYQDVNCTEVPVAIHADQLTPTWRVYSTGSNVFQTRAGCLIGAEHVNNSYECDIPIGAGICASYQTQTNSPRRARSVASQSIIAYTMSLGAENSVAYSNNSIAIPTNFTISVTTEILPVSMTKTSVDCTMYICGDSTECSNLLLQYGSFCTQLNRALTGIAVEQDKNTQEVFAQVKQIYKTPPIKDFGGFNFSQILPDPSKPSKRSFIEDLLFNKVTLADAGFIKQYGDCLGDIAARDLICAQKFNGLTVLPPLLTDEMIAQYTSALLAGTITSGWTFGAGAALQIPFAMQMAYRFNGIGVTQNVLYENQKLIANQFNSAIGKIQDSLSSTASALGKLQDVVNQNAQALNTLVKQLSSNFGAISSVLNDILSRLDKVEAEVQIDRLITGRLQSLQTYVTQQLIRAAEIRASANLAATKMSECVLGQSKRVDFCGKGYHLMSFPQSAPHGVVFLHVTYVPAQEKNFTTAPAICHDGKAHFPREGVFVSNGTHWFVTQRNFYEPQIITTDNTFVSGNCDVVIGIVNNTVYDPLQPELDSFKEELDKYFKNHTSPDVDLGDISGINASVVNIQKEIDRLNEVAKNLNESLIDLQELGKYEQYIKWPWYIWLGFIAGLIAIVMVTIMLCCMTSCCSCLKGCCSCGSCCKFDEDDSEPVLKGVKLHYT'"
            ]
          },
          "metadata": {},
          "execution_count": 8
        }
      ]
    },
    {
      "cell_type": "code",
      "metadata": {
        "id": "RLIg-q7fdgfQ"
      },
      "source": [
        ""
      ],
      "execution_count": 8,
      "outputs": []
    },
    {
      "cell_type": "code",
      "metadata": {
        "id": "7ZOgCI0LB1-M"
      },
      "source": [
        "#Biostruct map initalisation\n",
        "def biostructmap_analysis(pdb_structure, gene_name, input_data, ref_sequence, output_filename):\n",
        "    structure = biostructmap.Structure(pdb_structure, gene_name)\n",
        "\n",
        "    data = {'A': input_data, \n",
        "            'B': input_data, \n",
        "            'C': input_data\n",
        "            }\n",
        " \n",
        "    ref_seqs = {'A': ref_sequence,\n",
        "                'B': ref_sequence,\n",
        "                'C': ref_sequence\n",
        "                }\n",
        "\n",
        "    results = structure.map(data, method='default', ref=ref_seqs, radius=15, rsa_range=(0.2, 1.0))\n",
        "\n",
        "    results.write_data_to_pdb_b_factor(fileobj=output_filename, scale_factor=100)\n",
        "    return results  # Note we are now returning the results object as well as saving data to a file. "
      ],
      "execution_count": 9,
      "outputs": []
    },
    {
      "cell_type": "code",
      "metadata": {
        "id": "rrCw8vp7H5Z3"
      },
      "source": [
        "mapped_diversity_data = biostructmap_analysis('/content/drive/MyDrive/Honours/Reference_Sequence/spike_swiss_model.pdb', 'spike_protein', s_protein_data, ref_seq, 'biostructmap_diversity_Jan2020-Aug2021.pdb')"
      ],
      "execution_count": 10,
      "outputs": []
    },
    {
      "cell_type": "code",
      "metadata": {
        "id": "B6mLATnFI5qZ",
        "outputId": "48342b46-14b8-4a0e-b1a6-5e88396f8b0d",
        "colab": {
          "base_uri": "https://localhost:8080/"
        }
      },
      "source": [
        "# Get data for a particular residue:\n",
        "chain_of_interest = 'A'\n",
        "residue_id_of_interest = 20\n",
        "\n",
        "# Need to use Biopython's slightly odd residue identifier syntax.\n",
        "residue_of_interest = (chain_of_interest, (' ', residue_id_of_interest, ' '))\n",
        "mapped_diversity_data[residue_of_interest]"
      ],
      "execution_count": 11,
      "outputs": [
        {
          "output_type": "execute_result",
          "data": {
            "text/plain": [
              "0.07741935483870968"
            ]
          },
          "metadata": {},
          "execution_count": 11
        }
      ]
    },
    {
      "cell_type": "code",
      "metadata": {
        "id": "7ScyCCqSI5qZ"
      },
      "source": [
        "# How you might go about getting data out for all months:\n",
        "\n",
        "month_data_files = ['/content/drive/MyDrive/Honours/Monthly NextStrain data/02nextstrain_ncov_global_diversity_Jan_2020.tsv', \n",
        "                    '/content/drive/MyDrive/Honours/Monthly NextStrain data/03nextstrain_ncov_global_diversity_Feb_2020.tsv', \n",
        "                    '/content/drive/MyDrive/Honours/Monthly NextStrain data/04nextstrain_ncov_global_diversity_Mar_2020.tsv',\n",
        "                    '/content/drive/MyDrive/Honours/Monthly NextStrain data/05nextstrain_ncov_global_diversity_Apr_2020.tsv',\n",
        "                    '/content/drive/MyDrive/Honours/Monthly NextStrain data/06nextstrain_ncov_global_diversity_May_2020.tsv',\n",
        "                    '/content/drive/MyDrive/Honours/Monthly NextStrain data/07nextstrain_ncov_global_diversity_Jun_2020.tsv',\n",
        "                    '/content/drive/MyDrive/Honours/Monthly NextStrain data/08nextstrain_ncov_global_diversity_Jul_2020.tsv',\n",
        "                    '/content/drive/MyDrive/Honours/Monthly NextStrain data/09nextstrain_ncov_global_diversity_Aug_2020.tsv',\n",
        "                    '/content/drive/MyDrive/Honours/Monthly NextStrain data/10nextstrain_ncov_global_diversity_Sep_2020.tsv',\n",
        "                    '/content/drive/MyDrive/Honours/Monthly NextStrain data/11nextstrain_ncov_global_diversity_Oct_2020.tsv',\n",
        "                    '/content/drive/MyDrive/Honours/Monthly NextStrain data/12nextstrain_ncov_global_diversity_Nov_2020.tsv',\n",
        "                    '/content/drive/MyDrive/Honours/Monthly NextStrain data/13nextstrain_ncov_global_diversity_Dec_2020.tsv',\n",
        "                    '/content/drive/MyDrive/Honours/Monthly NextStrain data/14nextstrain_ncov_global_diversity_Jan_2021.tsv',\n",
        "                    '/content/drive/MyDrive/Honours/Monthly NextStrain data/15nextstrain_ncov_global_diversity_Feb_2021.tsv',\n",
        "                    '/content/drive/MyDrive/Honours/Monthly NextStrain data/16nextstrain_ncov_global_diversity_Mar_2021.tsv',\n",
        "                    '/content/drive/MyDrive/Honours/Monthly NextStrain data/17nextstrain_ncov_global_diversity_Apr_2021.tsv',\n",
        "                    '/content/drive/MyDrive/Honours/Monthly NextStrain data/18nextstrain_ncov_global_diversity_May_2021.tsv',\n",
        "                    '/content/drive/MyDrive/Honours/Monthly NextStrain data/19nextstrain_ncov_global_diversity_Jun_2021.tsv',\n",
        "                    '/content/drive/MyDrive/Honours/Monthly NextStrain data/20nextstrain_ncov_gisaid_global_diversity_Jul_2021.tsv',\n",
        "                    '/content/drive/MyDrive/Honours/Monthly NextStrain data/21nextstrain_ncov_global_diversity_Aug_2021.tsv']\n",
        "month_biostructmap_data = []\n",
        "\n",
        "# Simply looping over all month files, performing analysis, saving results in a list.\n",
        "for month_data in month_data_files:\n",
        "    month_file_prefix = month_data.replace('.tsv', '')\n",
        "    s_protein_data = nextstrain_data_processing(month_data, 1273, 'S')\n",
        "    mapped_diversity_data = biostructmap_analysis('/content/drive/MyDrive/Honours/Reference_Sequence/spike_swiss_model.pdb', 'spike_protein', s_protein_data, ref_seq, f\"{month_file_prefix}_biostructmap.pdb\")\n",
        "    month_biostructmap_data.append(mapped_diversity_data)"
      ],
      "execution_count": null,
      "outputs": []
    },
    {
      "cell_type": "code",
      "metadata": {
        "id": "rMKrcMY3SFhS"
      },
      "source": [
        "# And this is how you might go about getting data out for a particular residue across all months\n",
        "# Get data for a particular residue:\n",
        "chain_of_interest = 'A'\n",
        "residue_id_of_interest = 144\n",
        "\n",
        "# Need to use Biopython's slightly odd residue identifier syntax.\n",
        "residue_of_interest = (chain_of_interest, (' ', residue_id_of_interest, ' '))\n",
        "data_for_residue = [x[residue_of_interest] for x in month_biostructmap_data]\n",
        "\n",
        "data_for_residue\n",
        "\n",
        "# And now you can plot this using the `data_for_residue` list as your y values, and the months as your x values."
      ],
      "execution_count": null,
      "outputs": []
    },
    {
      "cell_type": "code",
      "metadata": {
        "id": "zCw7nNCHI5qa"
      },
      "source": [
        "# Example of how you could pull out values across all months to then calculate stats on:\n",
        "\n",
        "residue_div_values_per_month = []\n",
        "chain_of_interest = 'A' #Only calculate on a single chain\n",
        "\n",
        "for single_month_data in month_biostructmap_data:\n",
        "    diversity_values = [value for key, value in single_month_data.items() if key[0] == chain_of_interest]\n",
        "    residue_div_values_per_month.append(diversity_values)\n",
        "\n",
        "from scipy.stats import wilcoxon\n",
        "# Now you can use the `residue_div_values_per_month` list to do stats comparing months.\n",
        "\n",
        "for i, month_1 in enumerate(month_biostructmap_data):\n",
        "    for j, month_2 in enumerate(month_biostructmap_data):\n",
        "        stat, p = wilcoxon(month_1, month_2)\n",
        "        print(f\"P value for comparison between months {i} and {j} is {p}\\n\")\n",
        "\n",
        "\n",
        "        # Note there is a bit more work needed here, for example you might need to create a matrix plot, or add a lookup list with properly formatted dates so you know what each month index is referring to.\n",
        "        # But this will get you started."
      ],
      "execution_count": null,
      "outputs": []
    }
  ]
}