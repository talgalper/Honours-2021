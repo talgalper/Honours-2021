{
  "nbformat": 4,
  "nbformat_minor": 0,
  "metadata": {
    "colab": {
      "name": "Untitled4.ipynb",
      "provenance": [],
      "authorship_tag": "ABX9TyM9HqgFjvkx3yGX6XT+aY7h",
      "include_colab_link": true
    },
    "kernelspec": {
      "name": "python3",
      "display_name": "Python 3"
    },
    "language_info": {
      "name": "python"
    }
  },
  "cells": [
    {
      "cell_type": "markdown",
      "metadata": {
        "id": "view-in-github",
        "colab_type": "text"
      },
      "source": [
        "<a href=\"https://colab.research.google.com/github/talgalper/Honours-2021/blob/main/World_case_data.ipynb\" target=\"_parent\"><img src=\"https://colab.research.google.com/assets/colab-badge.svg\" alt=\"Open In Colab\"/></a>"
      ]
    },
    {
      "cell_type": "code",
      "metadata": {
        "id": "5TNAUgqymWdY"
      },
      "source": [
        "import pandas as pd"
      ],
      "execution_count": 10,
      "outputs": []
    },
    {
      "cell_type": "code",
      "metadata": {
        "id": "MxJT22m7mZ70"
      },
      "source": [
        "data = pd.read_csv('owid-covid-data.csv')"
      ],
      "execution_count": 11,
      "outputs": []
    },
    {
      "cell_type": "code",
      "metadata": {
        "id": "XUtyVDBSnpaF"
      },
      "source": [
        "# telling panda the data types\n",
        "data.date = pd.to_datetime(data.date)\n",
        "data.location = data.location.astype('category')"
      ],
      "execution_count": 12,
      "outputs": []
    },
    {
      "cell_type": "code",
      "metadata": {
        "id": "2raPydqzqdTU"
      },
      "source": [
        "# deletes all data except for listed\n",
        "subset_data = data[['continent', 'location', 'date', 'new_cases']]\n",
        "subset_data = subset_data[subset_data.location == 'World']\n",
        "subset_data.new_cases = subset_data.new_cases.astype('int64')\n",
        "subset_data.index = subset_data.date"
      ],
      "execution_count": 23,
      "outputs": []
    },
    {
      "cell_type": "code",
      "metadata": {
        "id": "ctu5ceswtpk-"
      },
      "source": [
        "# adds all the days of each month\n",
        "subset_data.groupby(pd.Grouper(freq='m')).sum()"
      ],
      "execution_count": null,
      "outputs": []
    },
    {
      "cell_type": "code",
      "metadata": {
        "id": "Jyvv_DM0yT02"
      },
      "source": [
        ""
      ],
      "execution_count": null,
      "outputs": []
    },
    {
      "cell_type": "code",
      "metadata": {
        "id": "aj93NxkOyUf3"
      },
      "source": [
        ""
      ],
      "execution_count": null,
      "outputs": []
    },
    {
      "cell_type": "code",
      "metadata": {
        "id": "Eahc0vhByUjP"
      },
      "source": [
        ""
      ],
      "execution_count": null,
      "outputs": []
    },
    {
      "cell_type": "code",
      "metadata": {
        "id": "Mjrxuk9UyUln"
      },
      "source": [
        "subset_data = subset_data.dropna(['new_cases'])"
      ],
      "execution_count": null,
      "outputs": []
    }
  ]
}